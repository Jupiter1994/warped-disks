{
 "cells": [
  {
   "cell_type": "markdown",
   "id": "e7d9cf9c-1ae5-4f1a-9755-18ec88148270",
   "metadata": {},
   "source": [
    "# Reduced equations for linear bending waves\n",
    "\n",
    "The name \"reduced equations for linear bending waves\" comes from Lubow+Ogilvie 2000; it refers A53-54 in Lubow+Ogilvie 2000 and B16-17 in Fairbairn 2025. This pair of coupled PDEs relates the tilt $\\mathcal{W}$ and internal torque $\\mathcal{G}$:\n",
    "\n",
    "$$    \\frac{\\partial \\mathcal{G}}{\\partial t} = \\frac{\\Sigma H^2 \\Omega^3 R^3}4 \\frac{\\partial \\mathcal{W}}{\\partial R}  - \\alpha \\Omega G  $$\n",
    "$$ \\Sigma \\Omega R^2  \\frac{\\partial \\mathcal{W}}{\\partial t} = \\frac{1}R \\frac{\\partial \\mathcal{G}}{\\partial R} $$"
   ]
  },
  {
   "cell_type": "markdown",
   "id": "6bf42484-ffb9-4ad7-bcc3-65696fdcda04",
   "metadata": {},
   "source": [
    "## Imports and normalizations"
   ]
  },
  {
   "cell_type": "code",
   "execution_count": 2,
   "id": "de2fc5ed-ebbe-49be-86ff-0fb160c6b9fe",
   "metadata": {
    "scrolled": true
   },
   "outputs": [],
   "source": [
    "# %pip install fipy\n",
    "\n",
    "import numpy as np\n",
    "import time\n",
    "import math\n",
    "#import scipy.differentiate\n",
    "\n",
    "import matplotlib.pyplot as plt"
   ]
  },
  {
   "cell_type": "code",
   "execution_count": 3,
   "id": "8109de6e-2275-4234-adf8-a143fa0ce51f",
   "metadata": {},
   "outputs": [],
   "source": [
    "cs = 0.02\n",
    "alpha = 0.001 # 0.001 # 0.019"
   ]
  },
  {
   "cell_type": "markdown",
   "id": "83800486-fc0a-4a16-8d32-2b5411fc7b51",
   "metadata": {},
   "source": [
    "## Numerical derivatives"
   ]
  },
  {
   "cell_type": "code",
   "execution_count": 4,
   "id": "e1751c08-aa39-4d22-aef1-3aa3dbfe97e2",
   "metadata": {},
   "outputs": [],
   "source": [
    "def derivative(f, x):\n",
    "    '''\n",
    "    Returns first derivative of f(x) with respect to the domain x.\n",
    "\n",
    "    '''\n",
    "    \n",
    "    # return scipy.differentiate.derivative(f, x)\n",
    "\n",
    "    derivs = np.zeros(shape=f.shape)\n",
    "\n",
    "    # handle boundaries\n",
    "    derivs[0] = (f[1] - f[0]) / (x[1] - x[0])\n",
    "    derivs[-1] = (f[-1] - f[-2]) / (x[-1] - x[-2])\n",
    "\n",
    "    # central difference method\n",
    "    for i in range(1, len(x)-1):\n",
    "        derivs[i] = (f[i+1] - f[i-1]) / (x[i+1] - x[i-1])\n",
    "\n",
    "    return derivs"
   ]
  },
  {
   "cell_type": "markdown",
   "id": "67cd138b-3753-46aa-b0eb-ba745d651dcf",
   "metadata": {},
   "source": [
    "## Disk information\n",
    "\n",
    "Normalizations:\n",
    "- $R_0 = 1$\n",
    "- $\\Omega_{K,0} = 1$\n",
    "- $c_s = 0.02$\n",
    "- $\\alpha = 0.019$\n",
    "- Density profile: $K, R_a, R_b, D_a, D_b = 19, 1, 2, 0.1, 0.2$"
   ]
  },
  {
   "cell_type": "markdown",
   "id": "5b6a1c21-c770-416c-b64a-b4458d13475d",
   "metadata": {},
   "source": [
    "### Density profile"
   ]
  },
  {
   "cell_type": "code",
   "execution_count": 5,
   "id": "f39d862d-9cc6-4912-ac20-f9bea05e7008",
   "metadata": {},
   "outputs": [],
   "source": [
    "def Sigma(Rs):\n",
    "    '''\n",
    "    Returns the disk's background surface density profile.\n",
    "    \n",
    "    '''\n",
    "    \n",
    "    K, R_a, R_b, D_a, D_b = 19, 1, 2, 0.1, 0.2\n",
    "    fgaps = f_gap(Rs, K, R_a, R_b, D_a, D_b)\n",
    "    \n",
    "    Sigma0 = 1\n",
    "    \n",
    "    return Sigma0 * Rs**(-3/2) / fgaps\n",
    "\n",
    "def f_gap(Rs, K, R_a, R_b, D_a, D_b):\n",
    "    '''\n",
    "    Function that \"shapes\" the disk gap profile. Used in `sigma` function. \n",
    "    R_a and R_b are the locations of the inner and outer gap edges,\n",
    "    D_a and D_b are the steepness of the edges, and K determines the\n",
    "    depth of the gap.\n",
    "    \n",
    "    '''\n",
    "\n",
    "    return 1 + (K-1)/2 * \\\n",
    "        (np.tanh((Rs - R_a)/D_a) - np.tanh((Rs - R_b)/D_b))"
   ]
  },
  {
   "cell_type": "code",
   "execution_count": 6,
   "id": "be8fae9c-44d1-4de4-942c-b2fb360f916b",
   "metadata": {},
   "outputs": [],
   "source": [
    "## check shape of disk profile\n",
    "# K, R_a, R_b, D_a, D_b = 19, 1, 2, 0.1, 0.2\n",
    "# plt.plot(Rs, sigma(Rs))"
   ]
  },
  {
   "cell_type": "markdown",
   "id": "7a18cc1d-3e56-4ef1-8027-b0e2af1fb508",
   "metadata": {},
   "source": [
    "### Angular frequency and scale height"
   ]
  },
  {
   "cell_type": "code",
   "execution_count": 7,
   "id": "9f14b2ac-3dad-4b0c-8c0e-bee51cbeeb42",
   "metadata": {},
   "outputs": [],
   "source": [
    "def OmegaK(Rs):\n",
    "    '''\n",
    "    Returns the Keplerian angular velocity profile.\n",
    "\n",
    "    '''\n",
    "    OmegaK_0 = 1 # Omega_K at R=R_0\n",
    "    return OmegaK_0 * Rs**(-3/2)\n",
    "\n",
    "def scaleHeight(Rs):\n",
    "    '''\n",
    "    Returns the disk's scale height profile. We use H = c_sound / Omega_K.\n",
    "\n",
    "    '''\n",
    "    return cs / OmegaK(Rs)    \n",
    "\n",
    "def Omega(Rs):\n",
    "    '''\n",
    "    Returns the disk's background angular velocity profile.\n",
    "\n",
    "    '''\n",
    "\n",
    "    OmegaKs = OmegaK(Rs)\n",
    "    rho_mids = Sigma(Rs) / (np.sqrt(2*np.pi) * scaleHeight(Rs))\n",
    "    \n",
    "    coeff = np.sqrt(1 + (cs / (Rs*OmegaKs))**2 * derivative(np.log(rho_mids), np.log(Rs)))\n",
    "    \n",
    "    return OmegaKs * coeff"
   ]
  },
  {
   "cell_type": "markdown",
   "id": "89f0a6fd-75b6-4c27-9a84-ff351f6f55a0",
   "metadata": {},
   "source": [
    "## Integration functions\n",
    "\n",
    "Boundary conditions:\n",
    "- $\\mathcal{W}(R_\\text{min}, 0) = 0$\n",
    "- $\\mathcal{W}(R_\\text{max}, 0) = 0.1$ (it just needs to be a constant)"
   ]
  },
  {
   "cell_type": "code",
   "execution_count": 8,
   "id": "8e4a5c2e-1410-4d0a-a95b-06da80e40463",
   "metadata": {},
   "outputs": [],
   "source": [
    "def dG_dt(Rs_torque, Gs, Rs_warp, Ws):\n",
    "    '''\n",
    "    Returns dG/dt over the R domain (Rs_torque) for Gs.\n",
    "    \n",
    "    Assumes that `Ws` and `Gs` are staggered in the R domain:\n",
    "    Ws should be indexed from 0 through N, while `Gs` should be indexed\n",
    "    from 1/2 to N-1/2.\n",
    "\n",
    "    '''\n",
    "\n",
    "    # since we're changing G, compute values over G's R domain\n",
    "    Sigmas = Sigma(Rs_torque) # length N\n",
    "    Hs = scaleHeight(Rs_torque)\n",
    "    Omegas = Omega(Rs_torque)\n",
    "    \n",
    "    dW_dRs = (Ws[1:] - Ws[:-1]) / (Rs_warp[1:] - Rs_warp[:-1]) # length N\n",
    "\n",
    "    term1 = Sigmas * (Hs**2) * (Omegas**3) * (Rs_torque**3) / 4 * dW_dRs # sloshing term\n",
    "    term2 = (-1) * alpha * Omegas * Gs # viscous term\n",
    "    \n",
    "    return term1 + term2\n",
    "\n",
    "def dW_dt(Rs_torque, Gs, Rs_warp, Ws):\n",
    "    '''\n",
    "    Returns dW/dt over the R domain (Rs) for Ws.\n",
    "    \n",
    "    Assumes that `Ws` and `Gs` are staggered in the R domain:\n",
    "    Ws should be indexed from 0 through N, while `Gs` should be indexed\n",
    "    from 1/2 to N-1/2.\n",
    "\n",
    "    '''\n",
    "\n",
    "    # since we're changing W, compute values over W's R domain\n",
    "    Sigmas = Sigma(Rs_warp) # length N+1\n",
    "    Omegas = Omega(Rs_warp)\n",
    "    \n",
    "    # set dG_dR = 0 at boundaries so that W is constant at boundaries\n",
    "    dG_dRs_middle = (Gs[1:] - Gs[:-1]) / (Rs_torque[1:] - Rs_torque[:-1]) # length N-1\n",
    "    dG_dRs = np.zeros(shape=Rs_warp.shape)\n",
    "    dG_dRs[1:-1] = dG_dRs_middle\n",
    "\n",
    "    coeff = (Sigmas * Omegas * Rs_warp**3)**(-1)\n",
    "    return coeff * dG_dRs "
   ]
  },
  {
   "cell_type": "code",
   "execution_count": 9,
   "id": "7bbb2f93-4acb-4c6c-bbe7-9bebfd8678d6",
   "metadata": {},
   "outputs": [],
   "source": [
    "def evolve_G(Rs_torque, Gs, Rs_warp, Ws, dt):\n",
    "    '''\n",
    "    Use the predictor-corrector method to evolve G(R) forward by one timestep (dt).\n",
    "    W and G are staggered in the R domain.\n",
    "\n",
    "    '''\n",
    "\n",
    "    # predictor step\n",
    "    F1 = dG_dt(Rs_torque, Gs, Rs_warp, Ws)\n",
    "    Gprimes = Gs + F1*dt\n",
    "\n",
    "    # corrector step\n",
    "    F2 = dG_dt(Rs_torque, Gprimes, Rs_warp, Ws)\n",
    "    Gnexts = Gs + (F1+F2)/2 * dt\n",
    "\n",
    "    return Gnexts\n",
    "\n",
    "def evolve_W(Rs_torque, Gs, Rs_warp, Ws, dt):\n",
    "    '''\n",
    "    Use the predictor-corrector method to evolve W(R) forward by one timestep (dt).\n",
    "    W and G are staggered in the R domain.\n",
    "    \n",
    "    '''\n",
    "\n",
    "    # predictor step\n",
    "    F1 = dW_dt(Rs_torque, Gs, Rs_warp, Ws)\n",
    "    Wprimes = Ws + F1*dt\n",
    "\n",
    "    # corrector step\n",
    "    F2 = dW_dt(Rs_torque, Gs, Rs_warp, Wprimes)\n",
    "    Wnexts = Ws + (F1+F2)/2 * dt\n",
    "    \n",
    "    # fix the boundaries at constant warps (handled in dW_dt)\n",
    "#     Wnexts[0] = Ws[0]\n",
    "#     Wnexts[-1] = Ws[-1]\n",
    "\n",
    "    return Wnexts"
   ]
  },
  {
   "cell_type": "code",
   "execution_count": 10,
   "id": "bd990d59-bdea-46a8-86ef-266b38a73a46",
   "metadata": {},
   "outputs": [],
   "source": [
    "def integrate(Rs_torque, Gs, Rs_warp, Ws, ts):\n",
    "    '''\n",
    "\n",
    "    Integrate W(R) and G(R) over a given time domain (ts). Returns W(R) and \n",
    "    G(R) at the final timestep.\n",
    "    \n",
    "    W and G are staggered in the R domain.\n",
    "\n",
    "    '''\n",
    "\n",
    "    dts = ts[1:] - ts[:-1]\n",
    "    \n",
    "    for dt in dts:\n",
    "        Gnexts = evolve_G(Rs_torque, Gs, Rs_warp, Ws, dt)\n",
    "        Wnexts = evolve_W(Rs_torque, Gs, Rs_warp, Ws, dt)\n",
    "\n",
    "        Ws, Gs = Wnexts, Gnexts\n",
    "\n",
    "    return Ws, Gs"
   ]
  },
  {
   "cell_type": "markdown",
   "id": "1771bc1d-8a42-4661-9e78-ac0f6fcc9d84",
   "metadata": {},
   "source": [
    "## Run a sim (no planet)\n",
    "\n",
    "Note that, from the $\\frac{\\partial \\mathcal{G}}{\\partial t} = \\frac{\\Sigma H^2 \\Omega^3 R^3}4 \\frac{\\partial \\mathcal{W}}{\\partial R}  - \\alpha \\Omega G$, we can see that $t \\sim \\Omega^{-1} h^{-1}$ and $t \\sim \\Omega^{-1} \\alpha^{-1} $ are both relevant timescales. This corresponds to $\\sim$10-100 $\\Omega^{-1}$."
   ]
  },
  {
   "cell_type": "code",
   "execution_count": null,
   "id": "55da46b9-3e37-4af9-a4f2-3947e0623674",
   "metadata": {
    "tags": []
   },
   "outputs": [],
   "source": [
    "# spatial and time domains\n",
    "Rmin = 0.5\n",
    "Rmax = 3.5\n",
    "DeltaR = 0.1\n",
    "num_Rs = (int) ((Rmax - Rmin) / DeltaR) + 1\n",
    "\n",
    "# stagger W and G in the R domain\n",
    "Rs_warp = np.linspace(Rmin, Rmax, num_Rs)\n",
    "Rs_torque = Rs_warp[:-1] + DeltaR/2\n",
    "\n",
    "tmin = 0\n",
    "tmax = 6000\n",
    "Deltat = 0.05\n",
    "num_ts = (int) ((tmax - tmin) / Deltat) + 1\n",
    "ts = np.linspace(tmin, tmax, num_ts)\n",
    "\n",
    "Ws = 0.1 * np.cumsum(np.exp(-(Rs_warp-2)**2 / 2) / np.sqrt(2*np.pi)) * DeltaR\n",
    "\n",
    "#Ws = np.zeros(shape=Rs.shape) + (Rs-0.5)/30 # tilt W(R)\n",
    "Gs = np.zeros(shape=Rs_torque.shape) # torque G(R)"
   ]
  },
  {
   "cell_type": "code",
   "execution_count": null,
   "id": "44fe6310-b034-4798-b6ff-4ce690be84b1",
   "metadata": {},
   "outputs": [],
   "source": [
    "fig = plt.figure(figsize=(10, 6))\n",
    "\n",
    "start = time.time()\n",
    "\n",
    "Ws_final, Gs_final = integrate(Rs_torque, Gs, Rs_warp, Ws, ts)\n",
    "# Ws_final, Gs_final = integrate(Rs_torque, Gs_final, Rs_warp, Ws_final, ts)\n",
    "\n",
    "\n",
    "end = time.time()\n",
    "print(\"Elapsed time:\", np.round(end - start, 2))\n",
    "\n",
    "plt.plot(Rs_warp, Ws, c=\"blue\", ls=\"--\", label=\"initial W\")\n",
    "plt.plot(Rs_warp, Ws_final, c=\"blue\", label=\"W(R)\")\n",
    "plt.plot(Rs_torque, Gs, c=\"orange\", ls=\"--\", label=\"initial G(R)\")\n",
    "plt.plot(Rs_torque, Gs_final, c=\"orange\", label=\"G(R)\")\n",
    "\n",
    "R_a, R_b = 1, 2\n",
    "plt.vlines(R_a, 0, 0.1, color=\"black\", linestyle=\":\")\n",
    "plt.vlines(R_b, 0, 0.1, color=\"black\", linestyle=\":\", label=\"Gap edges\")\n",
    "\n",
    "plt.scatter([],[], s=0, label=\"t=\" + str(tmax))\n",
    "\n",
    "plt.legend()\n",
    "plt.show()"
   ]
  },
  {
   "cell_type": "code",
   "execution_count": null,
   "id": "84217ed4",
   "metadata": {},
   "outputs": [],
   "source": [
    "Gs_final[:10]"
   ]
  },
  {
   "cell_type": "markdown",
   "id": "d7e37716-ced5-43e8-85e5-305bccd00fda",
   "metadata": {},
   "source": [
    "### Compare to steady-state solution"
   ]
  },
  {
   "cell_type": "code",
   "execution_count": null,
   "id": "e3445d11",
   "metadata": {
    "scrolled": true
   },
   "outputs": [],
   "source": [
    "def A(Rs):\n",
    "    \n",
    "    return Sigma(Rs) * scaleHeight(Rs)**2 * Omega(Rs)**3 * Rs**3 / 4\n",
    "\n",
    "plt.plot(Rs_warp, np.gradient(Ws_final, Rs_warp), label=\"sim\")\n",
    "plt.plot(Rs_warp, alpha * Omega(Rs_warp) * 7e-4 / A(Rs_warp), label=\"steady state\")\n",
    "# note: 7e-6 is our arbitrary value for the constant G; it comes from the outer boundary conditions\n",
    "# on W\n",
    "\n",
    "plt.title(\"dW/dR\")\n",
    "plt.legend()"
   ]
  },
  {
   "cell_type": "markdown",
   "id": "b7855c62-c417-4c07-811b-933747b5cbb5",
   "metadata": {},
   "source": [
    "## One-planet simulation"
   ]
  },
  {
   "cell_type": "code",
   "execution_count": 22,
   "id": "82793ec6-fb7d-4d86-87da-0e8b3a1ee532",
   "metadata": {},
   "outputs": [],
   "source": [
    "# spatial and time domains\n",
    "Rmin = 0.5\n",
    "Rmax = 3.5\n",
    "DeltaR = 0.1\n",
    "num_Rs = (int) ((Rmax - Rmin) / DeltaR) + 1\n",
    "\n",
    "# stagger W and G in the R domain\n",
    "Rs_warp = np.linspace(Rmin, Rmax, num_Rs)\n",
    "Rs_torque = Rs_warp[:-1] + DeltaR/2\n",
    "\n",
    "tmin = 0\n",
    "tmax = 6000\n",
    "Deltat = 0.05\n",
    "num_ts = (int) ((tmax - tmin) / Deltat) + 1\n",
    "ts = np.linspace(tmin, tmax, num_ts)\n",
    "\n",
    "Ws = 0.1 * np.cumsum(np.exp(-(Rs_warp-2)**2 / 2) / np.sqrt(2*np.pi)) * DeltaR\n",
    "Ws = (Ws + 0.1j*Ws).astype(complex)\n",
    "\n",
    "#Ws = np.zeros(shape=Rs.shape) + (Rs-0.5)/30 # tilt W(R)\n",
    "Gs = np.zeros(shape=Rs_torque.shape) # torque G(R)\n",
    "Gs = (Gs + 0.1j*Gs).astype(complex)"
   ]
  },
  {
   "cell_type": "code",
   "execution_count": 23,
   "id": "2109fa6f-a18e-453e-8577-9bf8f2678f66",
   "metadata": {},
   "outputs": [
    {
     "name": "stderr",
     "output_type": "stream",
     "text": [
      "/Users/jupiterding/miniconda3/lib/python3.9/site-packages/matplotlib/cbook/__init__.py:1289: ComplexWarning: Casting complex values to real discards the imaginary part\n",
      "  return np.asarray(x, float)\n",
      "/Users/jupiterding/miniconda3/lib/python3.9/site-packages/matplotlib/cbook/__init__.py:1289: ComplexWarning: Casting complex values to real discards the imaginary part\n",
      "  return np.asarray(x, float)\n"
     ]
    },
    {
     "data": {
      "image/png": "[encoded data removed]",
      "text/plain": [
       "<Figure size 720x432 with 1 Axes>"
      ]
     },
     "metadata": {
      "needs_background": "light"
     },
     "output_type": "display_data"
    }
   ],
   "source": [
    "fig = plt.figure(figsize=(10, 6))\n",
    "\n",
    "plt.plot(Rs_warp, Ws, c=\"blue\", ls=\"--\", label=r\"initial $\\mathcal{W}(R)$\")\n",
    "plt.plot(Rs_torque, Gs, c=\"orange\", ls=\"--\", label=r\"initial $\\mathcal{G}(R)$\")\n",
    "\n",
    "plt.legend()\n",
    "plt.show()"
   ]
  },
  {
   "cell_type": "code",
   "execution_count": null,
   "id": "075a1cab-dc0d-432d-a640-a8c4cad8a019",
   "metadata": {},
   "outputs": [],
   "source": []
  }
 ],
 "metadata": {
  "kernelspec": {
   "display_name": "Python 3",
   "language": "python",
   "name": "python3"
  },
  "language_info": {
   "codemirror_mode": {
    "name": "ipython",
    "version": 3
   },
   "file_extension": ".py",
   "mimetype": "text/x-python",
   "name": "python",
   "nbconvert_exporter": "python",
   "pygments_lexer": "ipython3",
   "version": "3.9.5"
  }
 },
 "nbformat": 4,
 "nbformat_minor": 5
}
