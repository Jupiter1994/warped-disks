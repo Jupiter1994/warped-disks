{
 "cells": [
  {
   "cell_type": "markdown",
   "id": "e7d9cf9c-1ae5-4f1a-9755-18ec88148270",
   "metadata": {},
   "source": [
    "# Reduced equations for linear bending waves\n",
    "\n",
    "The name \"reduced equations for linear bending waves\" comes from Lubow+Ogilvie 2000; it refers A53-54 in Lubow+Ogilvie 2000 and B16-17 in Fairbairn 2025. This pair of coupled PDEs relates the tilt $\\mathcal{W}$ and internal torque $\\mathcal{G}$:\n",
    "\n",
    "$$    \\frac{\\partial \\mathcal{G}}{\\partial t} = \\frac{\\Sigma H^2 \\Omega^3 R^3}4 \\frac{\\partial \\mathcal{W}}{\\partial R}  - \\alpha \\Omega G  $$\n",
    "$$ \\Sigma \\Omega R^2  \\frac{\\partial \\mathcal{W}}{\\partial t} = \\frac{1}R \\frac{\\partial \\mathcal{G}}{\\partial R} $$"
   ]
  },
  {
   "cell_type": "markdown",
   "id": "6bf42484-ffb9-4ad7-bcc3-65696fdcda04",
   "metadata": {},
   "source": [
    "## Imports and normalizations"
   ]
  },
  {
   "cell_type": "code",
   "execution_count": 2,
   "id": "de2fc5ed-ebbe-49be-86ff-0fb160c6b9fe",
   "metadata": {
    "scrolled": true
   },
   "outputs": [],
   "source": [
    "# %pip install fipy\n",
    "\n",
    "import numpy as np\n",
    "import time\n",
    "import math\n",
    "#import scipy.differentiate\n",
    "\n",
    "import matplotlib.pyplot as plt"
   ]
  },
  {
   "cell_type": "code",
   "execution_count": 3,
   "id": "8109de6e-2275-4234-adf8-a143fa0ce51f",
   "metadata": {},
   "outputs": [],
   "source": [
    "cs = 0.02\n",
    "alpha = 0.019"
   ]
  },
  {
   "cell_type": "markdown",
   "id": "83800486-fc0a-4a16-8d32-2b5411fc7b51",
   "metadata": {},
   "source": [
    "## Numerical derivatives"
   ]
  },
  {
   "cell_type": "code",
   "execution_count": 4,
   "id": "e1751c08-aa39-4d22-aef1-3aa3dbfe97e2",
   "metadata": {},
   "outputs": [],
   "source": [
    "def derivative(f, x):\n",
    "    '''\n",
    "    Returns first derivative of f(x) with respect to the domain x.\n",
    "\n",
    "    '''\n",
    "    \n",
    "    # return scipy.differentiate.derivative(f, x)\n",
    "\n",
    "    derivs = np.zeros(shape=f.shape)\n",
    "\n",
    "    # handle boundaries\n",
    "    derivs[0] = (f[1] - f[0]) / (x[1] - x[0])\n",
    "    derivs[-1] = (f[-1] - f[-2]) / (x[-1] - x[-2])\n",
    "\n",
    "    # central difference method\n",
    "    for i in range(1, len(x)-1):\n",
    "        derivs[i] = (f[i+1] - f[i-1]) / (x[i+1] - x[i-1])\n",
    "\n",
    "    return derivs"
   ]
  },
  {
   "cell_type": "markdown",
   "id": "67cd138b-3753-46aa-b0eb-ba745d651dcf",
   "metadata": {},
   "source": [
    "## Disk information\n",
    "\n",
    "Normalizations:\n",
    "- $R_0 = 1$\n",
    "- $\\Omega_{K,0} = 1$\n",
    "- $c_s = 0.02$\n",
    "- $\\alpha = 0.019$\n",
    "- Density profile: $K, R_a, R_b, D_a, D_b = 19, 1, 2, 0.1, 0.2$"
   ]
  },
  {
   "cell_type": "markdown",
   "id": "5b6a1c21-c770-416c-b64a-b4458d13475d",
   "metadata": {},
   "source": [
    "### Density profile"
   ]
  },
  {
   "cell_type": "code",
   "execution_count": 5,
   "id": "f39d862d-9cc6-4912-ac20-f9bea05e7008",
   "metadata": {},
   "outputs": [],
   "source": [
    "def Sigma(Rs):\n",
    "    '''\n",
    "    Returns the disk's background surface density profile.\n",
    "    \n",
    "    '''\n",
    "    \n",
    "    K, R_a, R_b, D_a, D_b = 19, 1, 2, 0.1, 0.2\n",
    "    fgaps = f_gap(Rs, K, R_a, R_b, D_a, D_b)\n",
    "    \n",
    "    Sigma0 = 1\n",
    "    \n",
    "    return Sigma0 * Rs**(-3/2) / fgaps\n",
    "\n",
    "def f_gap(Rs, K, R_a, R_b, D_a, D_b):\n",
    "    '''\n",
    "    Function that \"shapes\" the disk gap profile. Used in `sigma` function. \n",
    "    R_a and R_b are the locations of the inner and outer gap edges,\n",
    "    D_a and D_b are the steepness of the edges, and K determines the\n",
    "    depth of the gap.\n",
    "    \n",
    "    '''\n",
    "\n",
    "    return 1 + (K-1)/2 * \\\n",
    "        (np.tanh((Rs - R_a)/D_a) - np.tanh((Rs - R_b)/D_b))"
   ]
  },
  {
   "cell_type": "code",
   "execution_count": 6,
   "id": "be8fae9c-44d1-4de4-942c-b2fb360f916b",
   "metadata": {},
   "outputs": [],
   "source": [
    "## check shape of disk profile\n",
    "# K, R_a, R_b, D_a, D_b = 19, 1, 2, 0.1, 0.2\n",
    "# plt.plot(Rs, sigma(Rs))"
   ]
  },
  {
   "cell_type": "markdown",
   "id": "7a18cc1d-3e56-4ef1-8027-b0e2af1fb508",
   "metadata": {},
   "source": [
    "### Angular frequency and scale height"
   ]
  },
  {
   "cell_type": "code",
   "execution_count": 7,
   "id": "9f14b2ac-3dad-4b0c-8c0e-bee51cbeeb42",
   "metadata": {},
   "outputs": [],
   "source": [
    "def OmegaK(Rs):\n",
    "    '''\n",
    "    Returns the Keplerian angular velocity profile.\n",
    "\n",
    "    '''\n",
    "    OmegaK_0 = 1 # Omega_K at R=R_0\n",
    "    return OmegaK_0 * Rs**(-3/2)\n",
    "\n",
    "def scaleHeight(Rs):\n",
    "    '''\n",
    "    Returns the disk's scale height profile. We use H = c_sound / Omega_K.\n",
    "\n",
    "    '''\n",
    "    return cs / OmegaK(Rs)    \n",
    "\n",
    "def Omega(Rs):\n",
    "    '''\n",
    "    Returns the disk's background angular velocity profile.\n",
    "\n",
    "    '''\n",
    "\n",
    "    OmegaKs = OmegaK(Rs)\n",
    "    rho_mids = Sigma(Rs) / (np.sqrt(2*np.pi) * scaleHeight(Rs))\n",
    "    \n",
    "    coeff = np.sqrt(1 + (cs / (Rs*OmegaKs))**2 * derivative(np.log(rho_mids), np.log(Rs)))\n",
    "    \n",
    "    return OmegaKs * coeff"
   ]
  },
  {
   "cell_type": "markdown",
   "id": "89f0a6fd-75b6-4c27-9a84-ff351f6f55a0",
   "metadata": {},
   "source": [
    "## Integration functions\n",
    "\n",
    "Boundary conditions:\n",
    "- $\\mathcal{W}(R_\\text{min}, 0) = 0$\n",
    "- $\\mathcal{W}(R_\\text{max}, 0) = 0.1$ (it just needs to be a constant)"
   ]
  },
  {
   "cell_type": "code",
   "execution_count": 8,
   "id": "8e4a5c2e-1410-4d0a-a95b-06da80e40463",
   "metadata": {},
   "outputs": [],
   "source": [
    "def dG_dt(Rs, Ws, Gs):\n",
    "    '''\n",
    "    Returns dG/dt over the R domain (Rs).\n",
    "\n",
    "    '''\n",
    "\n",
    "    Sigmas = Sigma(Rs)\n",
    "    Hs = scaleHeight(Rs)\n",
    "    Omegas = Omega(Rs)\n",
    "    \n",
    "    dW_dRs = derivative(Ws, Rs)\n",
    "\n",
    "    term1 = Sigmas * (Hs**2) * (Omegas**3) * (Rs**3) / 4 * dW_dRs # sloshing term\n",
    "    term2 = (-1) * alpha * Omegas * Gs # viscous term\n",
    "    \n",
    "    return term1 + term2\n",
    "\n",
    "def dW_dt(Rs, Ws, Gs):\n",
    "    '''\n",
    "    Returns dW/dt over the R domain (Rs).\n",
    "\n",
    "    '''\n",
    "\n",
    "    Sigmas = Sigma(Rs)\n",
    "    Omegas = Omega(Rs)\n",
    "    \n",
    "    dG_dRs = derivative(Gs, Rs)\n",
    "\n",
    "    coeff = (Sigmas * Omegas * Rs**3)**(-1)\n",
    "    return coeff * dG_dRs "
   ]
  },
  {
   "cell_type": "code",
   "execution_count": 29,
   "id": "7bbb2f93-4acb-4c6c-bbe7-9bebfd8678d6",
   "metadata": {},
   "outputs": [],
   "source": [
    "def evolve_G(Rs, Ws, Gs, dt):\n",
    "    '''\n",
    "    Use the predictor-corrector method to evolve G(R) forward by one timestep (dt).\n",
    "\n",
    "    '''\n",
    "\n",
    "    # predictor step\n",
    "    F1 = dG_dt(Rs, Ws, Gs)\n",
    "    Gprimes = Gs + F1*dt\n",
    "\n",
    "    # corrector step\n",
    "    F2 = dG_dt(Rs, Ws, Gprimes)\n",
    "    Gnexts = Gs + (F1+F2)/2 * dt\n",
    "\n",
    "    return Gnexts\n",
    "\n",
    "def evolve_W(Rs, Ws, Gs, dt):\n",
    "    '''\n",
    "    Use the predictor-corrector method to evolve W(R) forward by one timestep (dt).\n",
    "\n",
    "    '''\n",
    "\n",
    "    # predictor step\n",
    "    F1 = dW_dt(Rs, Ws, Gs)\n",
    "    Wprimes = Ws + F1*dt\n",
    "\n",
    "    # corrector step\n",
    "    F2 = dW_dt(Rs, Wprimes, Gs)\n",
    "    Wnexts = Ws + (F1+F2)/2 * dt\n",
    "    \n",
    "    # fix the boundaries at constant warps\n",
    "    Wnexts[0] = Ws[0]\n",
    "    Wnexts[-1] = Ws[-1]\n",
    "\n",
    "    return Wnexts"
   ]
  },
  {
   "cell_type": "code",
   "execution_count": 30,
   "id": "bd990d59-bdea-46a8-86ef-266b38a73a46",
   "metadata": {},
   "outputs": [],
   "source": [
    "def integrate(Rs, Ws, Gs, ts):\n",
    "    '''\n",
    "\n",
    "    Integrate W(R) and G(R) over a given time domain (ts). Returns W(R) and \n",
    "    G(R) at the final timestep.\n",
    "\n",
    "    '''\n",
    "\n",
    "    dts = ts[1:] - ts[:-1]\n",
    "    \n",
    "    for dt in dts:\n",
    "        Gnexts = evolve_G(Rs, Ws, Gs, dt)\n",
    "        Wnexts = evolve_W(Rs, Ws, Gs, dt)\n",
    "\n",
    "        Ws, Gs = Wnexts, Gnexts\n",
    "\n",
    "    return Ws, Gs"
   ]
  },
  {
   "cell_type": "markdown",
   "id": "1771bc1d-8a42-4661-9e78-ac0f6fcc9d84",
   "metadata": {},
   "source": [
    "## Run a sim\n",
    "\n",
    "Note that, from the $\\frac{\\partial \\mathcal{G}}{\\partial t} = \\frac{\\Sigma H^2 \\Omega^3 R^3}4 \\frac{\\partial \\mathcal{W}}{\\partial R}  - \\alpha \\Omega G$, we can see that $t \\sim \\Omega^{-1} h^{-1}$ and $t \\sim \\Omega^{-1} \\alpha^{-1} $ are both relevant timescales. This corresponds to $\\sim$10-100 $\\Omega^{-1}$."
   ]
  },
  {
   "cell_type": "code",
   "execution_count": 80,
   "id": "0ea6f0a4",
   "metadata": {},
   "outputs": [
    {
     "data": {
      "text/plain": [
       "[<matplotlib.lines.Line2D at 0x7fcf2171d4c0>]"
      ]
     },
     "execution_count": 80,
     "metadata": {},
     "output_type": "execute_result"
    },
    {
     "data": {
      "image/png": "[encoded data removed]",
      "text/plain": [
       "<Figure size 432x288 with 1 Axes>"
      ]
     },
     "metadata": {
      "needs_background": "light"
     },
     "output_type": "display_data"
    }
   ],
   "source": [
    "plt.plot(Rs, Ws)"
   ]
  },
  {
   "cell_type": "code",
   "execution_count": 117,
   "id": "55da46b9-3e37-4af9-a4f2-3947e0623674",
   "metadata": {},
   "outputs": [],
   "source": [
    "# spatial and time domains\n",
    "Rmin = 0.5\n",
    "Rmax = 6.5\n",
    "DeltaR = 0.01\n",
    "num_Rs = (int) ((Rmax - Rmin) / DeltaR) + 1\n",
    "Rs = np.linspace(Rmin, Rmax, num_Rs)\n",
    "\n",
    "tmin = 0\n",
    "tmax = 3\n",
    "Deltat = 0.05\n",
    "num_ts = (int) ((tmax - tmin) / Deltat) + 1\n",
    "ts = np.linspace(tmin, tmax, num_ts)\n",
    "\n",
    "Ws = 0.1 * np.cumsum(np.exp(-(Rs-2)**2 / 2) / np.sqrt(2*np.pi)) * DeltaR\n",
    "\n",
    "#Ws = np.zeros(shape=Rs.shape) + (Rs-0.5)/30 # tilt W(R)\n",
    "Gs = np.zeros(shape=Rs.shape) + 0.1 # torque G(R)"
   ]
  },
  {
   "cell_type": "code",
   "execution_count": 118,
   "id": "44fe6310-b034-4798-b6ff-4ce690be84b1",
   "metadata": {},
   "outputs": [
    {
     "name": "stderr",
     "output_type": "stream",
     "text": [
      "<ipython-input-8-8b51f1e93914>:29: RuntimeWarning: invalid value encountered in reciprocal\n",
      "  coeff = (Sigmas * Omegas * Rs**3)**(-1)\n"
     ]
    },
    {
     "data": {
      "image/png": "[encoded data removed]",
      "text/plain": [
       "<Figure size 720x432 with 1 Axes>"
      ]
     },
     "metadata": {
      "needs_background": "light"
     },
     "output_type": "display_data"
    }
   ],
   "source": [
    "fig = plt.figure(figsize=(10, 6))\n",
    "\n",
    "Ws_final, Gs_final = integrate(Rs, Ws, Gs, ts)\n",
    "\n",
    "plt.plot(Rs, Ws, color=\"blue\", linestyle=\"--\", label=\"initial W\")\n",
    "plt.plot(Rs, Ws_final, color=\"blue\", label=\"W(R)\")\n",
    "plt.plot(Rs, Gs_final, color=\"orange\", label=\"G(R)\")\n",
    "\n",
    "R_a, R_b = 1, 2\n",
    "plt.vlines(R_a, 0, 0.1, color=\"black\", linestyle=\":\")\n",
    "plt.vlines(R_b, 0, 0.1, color=\"black\", linestyle=\":\", label=\"Gap edges\")\n",
    "\n",
    "plt.legend()\n",
    "plt.show()"
   ]
  },
  {
   "cell_type": "code",
   "execution_count": 116,
   "id": "da5c094b",
   "metadata": {
    "scrolled": true
   },
   "outputs": [
    {
     "data": {
      "text/plain": [
       "array([0.00012952, 0.04322695, 0.04928927, 0.05550507, 0.05383132,\n",
       "       0.05230404, 0.05033746, 0.04849905, 0.04676104, 0.04513584])"
      ]
     },
     "execution_count": 116,
     "metadata": {},
     "output_type": "execute_result"
    }
   ],
   "source": [
    "Ws_final[:10]"
   ]
  },
  {
   "cell_type": "code",
   "execution_count": null,
   "id": "6ec0886f-a3fb-4bea-9615-d7811fa148d3",
   "metadata": {},
   "outputs": [],
   "source": []
  }
 ],
 "metadata": {
  "kernelspec": {
   "display_name": "Python 3",
   "language": "python",
   "name": "python3"
  },
  "language_info": {
   "codemirror_mode": {
    "name": "ipython",
    "version": 3
   },
   "file_extension": ".py",
   "mimetype": "text/x-python",
   "name": "python",
   "nbconvert_exporter": "python",
   "pygments_lexer": "ipython3",
   "version": "3.9.5"
  }
 },
 "nbformat": 4,
 "nbformat_minor": 5
}
