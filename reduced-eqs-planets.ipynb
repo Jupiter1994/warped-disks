{
 "cells": [
  {
   "cell_type": "markdown",
   "id": "e7d9cf9c-1ae5-4f1a-9755-18ec88148270",
   "metadata": {},
   "source": [
    "## Reduced equations for linear bending waves\n",
    "\n",
    "The name \"reduced equations for linear bending waves\" comes from Lubow+Ogilvie 2000; it refers to Eqs. 8-9 in Lubow+Ogilvie 2000. This pair of coupled PDEs relates the tilt $\\mathcal{W}$ and the internal torque $\\mathcal{G}$:\n",
    "\n",
    "$$ \\frac{\\partial \\mathcal{G}}{\\partial t} = \\frac{\\Sigma H^2 \\Omega^3 R^3}4 \\frac{\\partial \\mathcal{W}}{\\partial R}  - \\left( \\frac{\\kappa^2 - \\Omega^2}{\\Omega^2} \\right) \\frac{i\\Omega}2 \\mathcal{G} - \\alpha \\Omega \\mathcal{G}, $$\n",
    "$$ \\frac{\\partial \\mathcal{W}}{\\partial t} = \\frac{1}{\\Sigma \\Omega R^3 } \\frac{\\partial \\mathcal{G}}{\\partial R} - \\left(\\frac{\\Omega_z^2 - \\Omega^2}{\\Omega^2} \\right) \\frac{i\\Omega}2 \\mathcal{W}.$$"
   ]
  },
  {
   "cell_type": "markdown",
   "id": "6bf42484-ffb9-4ad7-bcc3-65696fdcda04",
   "metadata": {},
   "source": [
    "## Imports and normalizations"
   ]
  },
  {
   "cell_type": "code",
   "execution_count": 1,
   "id": "de2fc5ed-ebbe-49be-86ff-0fb160c6b9fe",
   "metadata": {
    "scrolled": true
   },
   "outputs": [],
   "source": [
    "# %pip install fipy\n",
    "\n",
    "# make 3D plots interactive\n",
    "use_interactive_plots = False\n",
    "if use_interactive_plots:\n",
    "    %matplotlib notebook\n",
    "\n",
    "import numpy as np\n",
    "import pandas as pd\n",
    "import tables\n",
    "import time\n",
    "import math\n",
    "#import scipy.differentiate\n",
    "import scipy.integrate as integ\n",
    "import scipy.interpolate as interp\n",
    "\n",
    "import matplotlib.pyplot as plt\n",
    "from mpl_toolkits.mplot3d import Axes3D"
   ]
  },
  {
   "cell_type": "markdown",
   "id": "02539840",
   "metadata": {},
   "source": [
    "For the reduced equations to be valid, we require $\\alpha \\lesssim c_s \\sim h$."
   ]
  },
  {
   "cell_type": "code",
   "execution_count": 2,
   "id": "8109de6e-2275-4234-adf8-a143fa0ce51f",
   "metadata": {},
   "outputs": [],
   "source": [
    "cs = 0.02 # 0.02\n",
    "alpha = 0.01 # 0.1 # 0.019"
   ]
  },
  {
   "cell_type": "markdown",
   "id": "83800486-fc0a-4a16-8d32-2b5411fc7b51",
   "metadata": {},
   "source": [
    "## Numerical derivatives"
   ]
  },
  {
   "cell_type": "code",
   "execution_count": 3,
   "id": "e1751c08-aa39-4d22-aef1-3aa3dbfe97e2",
   "metadata": {
    "code_folding": [
     0
    ]
   },
   "outputs": [],
   "source": [
    "def derivative(f, x):\n",
    "    '''\n",
    "    Returns first derivative of f(x) with respect to the domain x.\n",
    "\n",
    "    '''\n",
    "    \n",
    "    # return scipy.differentiate.derivative(f, x)\n",
    "\n",
    "    derivs = np.zeros(shape=f.shape)\n",
    "\n",
    "    # handle boundaries\n",
    "    derivs[0] = (f[1] - f[0]) / (x[1] - x[0])\n",
    "    derivs[-1] = (f[-1] - f[-2]) / (x[-1] - x[-2])\n",
    "\n",
    "    # central difference method\n",
    "    for i in range(1, len(x)-1):\n",
    "        derivs[i] = (f[i+1] - f[i-1]) / (x[i+1] - x[i-1])\n",
    "\n",
    "    return derivs"
   ]
  },
  {
   "cell_type": "markdown",
   "id": "67cd138b-3753-46aa-b0eb-ba745d651dcf",
   "metadata": {},
   "source": [
    "## Disk information\n",
    "\n",
    "Normalizations:\n",
    "- $R_0 = 1$\n",
    "- $\\Omega_{K,0} = 1$ (so $GM = 1$)\n",
    "- $\\Sigma_0 = 1$\n",
    "- $c_s = 0.02$ (which implies $H = c_s/\\Omega \\sim 0.02$)\n",
    "- $\\alpha = 0.019$\n",
    "- Density profile: $K, R_a, R_b, D_a, D_b = 19, 1, 2, 0.1, 0.2$"
   ]
  },
  {
   "cell_type": "markdown",
   "id": "5b6a1c21-c770-416c-b64a-b4458d13475d",
   "metadata": {},
   "source": [
    "### Density profile"
   ]
  },
  {
   "cell_type": "code",
   "execution_count": 4,
   "id": "f39d862d-9cc6-4912-ac20-f9bea05e7008",
   "metadata": {},
   "outputs": [],
   "source": [
    "def Sigma(Rs, use_gap):\n",
    "    '''\n",
    "    Returns the disk's background surface density profile.\n",
    "    If use_gap is False, do not include a gap in the profile.\n",
    "    \n",
    "    '''\n",
    "    \n",
    "    K, R_a, R_b, D_a, D_b = 19, 1, 2, 0.1, 0.2\n",
    "    fgaps = f_gap(Rs, K, R_a, R_b, D_a, D_b, use_gap)\n",
    "    \n",
    "    Sigma0 = 1\n",
    "    \n",
    "    return Sigma0 * Rs**(-3/2) / fgaps\n",
    "\n",
    "def f_gap(Rs, K, R_a, R_b, D_a, D_b, use_gap):\n",
    "    '''\n",
    "    Function that \"shapes\" the disk gap profile. Used in `sigma` function. \n",
    "    R_a and R_b are the locations of the inner and outer gap edges,\n",
    "    D_a and D_b are the steepness of the edges, and K determines the\n",
    "    depth of the gap.\n",
    "    If use_gap is False, return 1 (i.e., no disk gap).\n",
    "    \n",
    "    '''\n",
    "\n",
    "    if use_gap:\n",
    "        return 1 + (K-1)/2 * \\\n",
    "            (np.tanh((Rs - R_a)/D_a) - np.tanh((Rs - R_b)/D_b))\n",
    "    else:\n",
    "        return 1"
   ]
  },
  {
   "cell_type": "code",
   "execution_count": 5,
   "id": "be8fae9c-44d1-4de4-942c-b2fb360f916b",
   "metadata": {},
   "outputs": [
    {
     "data": {
      "text/plain": [
       "[<matplotlib.lines.Line2D at 0x17b0da210>]"
      ]
     },
     "execution_count": 5,
     "metadata": {},
     "output_type": "execute_result"
    },
    {
     "data": {
      "image/png": "[encoded data removed]",
      "text/plain": [
       "<Figure size 640x480 with 1 Axes>"
      ]
     },
     "metadata": {},
     "output_type": "display_data"
    }
   ],
   "source": [
    "## check shape of disk profile\n",
    "Rs_warp = np.arange(0.5, 3.5, 0.1)\n",
    "K, R_a, R_b, D_a, D_b = 19, 1, 2, 0.1, 0.2\n",
    "plt.plot(Rs_warp, Sigma(Rs_warp, False))"
   ]
  },
  {
   "cell_type": "markdown",
   "id": "7a18cc1d-3e56-4ef1-8027-b0e2af1fb508",
   "metadata": {},
   "source": [
    "### Keplerian orbital frequency\n",
    "\n",
    "Scale height, which depends on $\\Omega$, is defined in the \"Planet information\" section below."
   ]
  },
  {
   "cell_type": "code",
   "execution_count": 6,
   "id": "9f14b2ac-3dad-4b0c-8c0e-bee51cbeeb42",
   "metadata": {},
   "outputs": [],
   "source": [
    "def OmegaK(Rs):\n",
    "    '''\n",
    "    Returns the Keplerian orbital frequency profile.\n",
    "    Omega_K = sqrt(G*M_star / R^3)\n",
    "\n",
    "    '''\n",
    "    OmegaK_0 = 1 # Omega_K at R=R_0\n",
    "    return OmegaK_0 * Rs**(-3/2)"
   ]
  },
  {
   "cell_type": "markdown",
   "id": "e6ce483d",
   "metadata": {},
   "source": [
    "## Planet information\n",
    "\n",
    "If we insert one planet at the disk's inner boundary and one at the disk's outer boundary, can we reproduce Jiaru's results from using fixed (i.e., Dirichlet) boundary conditions?"
   ]
  },
  {
   "cell_type": "markdown",
   "id": "5865ec8b",
   "metadata": {},
   "source": [
    "### Laplace coefficients"
   ]
  },
  {
   "cell_type": "code",
   "execution_count": 7,
   "id": "9676b2da",
   "metadata": {
    "code_folding": []
   },
   "outputs": [],
   "source": [
    "def laplace_coeff_integrand(phi, x, j, s):\n",
    "    '''\n",
    "    \n",
    "    This function represents the integrand of the Laplace coefficient formula\n",
    "    (Eq. 6.67 of Murray & Dermott). The result is used in the laplace_coeff function.\n",
    "    \n",
    "    PARAMETERS\n",
    "    ----------\n",
    "    phi: the variable that we integrate over\n",
    "    x: the variable that isn't integrated over\n",
    "    j, s: See Eq. 6.67 of Murray & Dermott or Eq. 21 in Lubow+Ogilvie.\n",
    "    \n",
    "    '''\n",
    "    \n",
    "    num = np.cos(j*phi) # numerator\n",
    "    denom = (1 - 2 * x * np.cos(phi) + x**2) ** s\n",
    "    \n",
    "    return num / denom\n",
    "\n",
    "def laplace_coeff(x, j, s):\n",
    "    '''\n",
    "    \n",
    "    Calculate the Laplace coefficient using Eq. 6.67 of Murray & Dermott.\n",
    "\n",
    "    \n",
    "    PARAMETERS\n",
    "    ----------\n",
    "    x: argument of the Laplace coefficient formula\n",
    "    \n",
    "    '''\n",
    "    \n",
    "    return 2 / np.pi * integ.quad(laplace_coeff_integrand, 0, np.pi, args=(x, j, s))[0]"
   ]
  },
  {
   "cell_type": "markdown",
   "id": "2cd5f132",
   "metadata": {},
   "source": [
    "Depending on whether the planet is inside ($R \\gg a$; large $\\alpha$) or outside ($R \\ll a$; small $\\alpha$) the disk, we can use the quadrupole approximations the Laplace coefficients:"
   ]
  },
  {
   "cell_type": "code",
   "execution_count": 8,
   "id": "4ef6cedf",
   "metadata": {
    "code_folding": [
     0,
     17
    ]
   },
   "outputs": [],
   "source": [
    "def b0_approx(alpha, limit):\n",
    "    '''\n",
    "    Approximates the Laplace coefficient b^0_{3/2} as a function of \n",
    "    alpha = R/a.\n",
    "    \n",
    "    If alpha << 1, set `limit` to \"small\". If alpha >> 1, set \n",
    "    `limit` to \"large\".\n",
    "    \n",
    "    '''\n",
    "    \n",
    "    if limit==\"small\":\n",
    "        return 2 \n",
    "    elif limit==\"large\":\n",
    "        return 2/alpha**3\n",
    "    else:\n",
    "        raise ValueError(\"limit must be either \\\"small\\\" or \\\"large.\\\"\")\n",
    "\n",
    "def b1_approx(alpha, limit):\n",
    "    '''\n",
    "    Approximates the Laplace coefficient b^1_{3/2} as a function of \n",
    "    alpha = R/a.\n",
    "    \n",
    "    '''\n",
    "    \n",
    "    if limit==\"small\":\n",
    "        return 3*alpha \n",
    "    elif limit==\"large\":\n",
    "        return 3/alpha**4 \n",
    "    else:\n",
    "        raise ValueError(\"limit must be either \\\"small\\\" or \\\"large.\\\"\")"
   ]
  },
  {
   "cell_type": "markdown",
   "id": "c18bf4ac",
   "metadata": {},
   "source": [
    "And let's check that our approximated functions are accurate:"
   ]
  },
  {
   "cell_type": "code",
   "execution_count": 9,
   "id": "33c97279",
   "metadata": {
    "code_folding": [
     0
    ],
    "scrolled": true
   },
   "outputs": [],
   "source": [
    "# # correctness checks\n",
    "# print(\"Correctness check: for alpha >> 1, b^1_{3/2} ~ 3/alpha^4.\")\n",
    "# x = 10\n",
    "# print(laplace_coeff(x, j=1, s=3/2))\n",
    "# print(b1_approx(x,limit=\"large\"))\n",
    "\n",
    "# print(\"\\nCorrectness check: for alpha >> 1, b^0_{3/2} ~ 2/alpha^3.\")\n",
    "# x = 10\n",
    "# print(laplace_coeff(x, j=0, s=3/2))\n",
    "# print(b0_approx(x,limit=\"large\"))\n",
    "\n",
    "# print(\"\\nCorrectness check: for alpha << 1, b^1_{3/2} ~ 3*alpha.\")\n",
    "# x = .003\n",
    "# print(laplace_coeff(x, j=1, s=3/2))\n",
    "# print(b1_approx(x,limit=\"small\"))\n",
    "\n",
    "# print(\"\\nCorrectness check: for alpha << 1, b^0_{3/2} ~ 2.\")\n",
    "# x = .0001\n",
    "# print(laplace_coeff(x, j=0, s=3/2))\n",
    "# print(b0_approx(x,limit=\"small\"))\n"
   ]
  },
  {
   "cell_type": "markdown",
   "id": "1c28e74c",
   "metadata": {
    "jp-MarkdownHeadingCollapsed": true
   },
   "source": [
    "### Orbital, epicyclic, and radial frequencies\n",
    "\n",
    "(I use Eqs. 25-27 in Lubow+Ogilvie 2000.)"
   ]
  },
  {
   "cell_type": "code",
   "execution_count": 10,
   "id": "e376468d",
   "metadata": {
    "code_folding": [
     0,
     30,
     60
    ]
   },
   "outputs": [],
   "source": [
    "def Omega(Rs, Mp_in, a_in, Mp_out, a_out):\n",
    "    '''\n",
    "    Returns the disk's orbital frequency profile. \n",
    "    \n",
    "    VARIABLES:\n",
    "    ----------\n",
    "    Rs is the radial domain.\n",
    "    Mp_in is the ratio of the inner planet's mass to the star mass (using the normalization \n",
    "    GM_star = 1). For example, if we assume M_star = 1 M_sun, then a Jupiter-mass\n",
    "    planet would have Mp = 0.001.\n",
    "    a_in is the radius of the inner planet's orbit.\n",
    "    \n",
    "    Mp_out and a_out are defined similarly. To ``turn off'' either planet, set\n",
    "    its mass to 0.\n",
    "\n",
    "    '''\n",
    "\n",
    "    OmegaKs = OmegaK(Rs)\n",
    "    alphas_in = Rs/a_in\n",
    "    alphas_out = Rs/a_out\n",
    "    \n",
    "    inner_pl_term = Mp_in/(2 * a_in**2 * Rs) * (alphas_in*b0_approx(Rs/a_in, \"large\") - \\\n",
    "                                      b1_approx(alphas_in, \"large\"))\n",
    "    outer_pl_term = Mp_out/(2 * a_out**2 * Rs) * (alphas_out*b0_approx(Rs/a_out, \"small\") - \\\n",
    "                                      b1_approx(alphas_out, \"small\"))\n",
    "    \n",
    "    Omegas_sq = OmegaKs**2 + inner_pl_term + outer_pl_term\n",
    "    \n",
    "    return np.sqrt(Omegas_sq)\n",
    "\n",
    "def Kappa(Rs, Mp_in, a_in, Mp_out, a_out):\n",
    "    '''\n",
    "    Returns the disk's epicyclic frequency profile. \n",
    "    \n",
    "    VARIABLES:\n",
    "    ----------\n",
    "    Rs is the radial domain.\n",
    "    Mp_in is the ratio of the inner planet's mass to the star mass (using the normalization \n",
    "    GM_star = 1). For example, if we assume M_star = 1 M_sun, then a Jupiter-mass\n",
    "    planet would have Mp = 0.001.\n",
    "    a_in is the radius of the inner planet's orbit.\n",
    "    \n",
    "    Mp_out and a_out are defined similarly. To ``turn off'' either planet, set\n",
    "    its mass to 0.\n",
    "\n",
    "    '''\n",
    "\n",
    "    OmegaKs = OmegaK(Rs)\n",
    "    alphas_in = Rs/a_in\n",
    "    alphas_out = Rs/a_out\n",
    "    \n",
    "    inner_pl_term = Mp_in/(2 * a_in**2 * Rs) * (alphas_in*b0_approx(Rs/a_in, \"large\") - \\\n",
    "                                      2*b1_approx(alphas_in, \"large\"))\n",
    "    outer_pl_term = Mp_out/(2 * a_out**2 * Rs) * (alphas_out*b0_approx(Rs/a_out, \"small\") - \\\n",
    "                                      2*b1_approx(alphas_out, \"small\"))\n",
    "    \n",
    "    kappas_sq = OmegaKs**2 + inner_pl_term + outer_pl_term\n",
    "    \n",
    "    return np.sqrt(kappas_sq)\n",
    "\n",
    "def Omega_z(Rs, Mp_in, a_in, Mp_out, a_out):\n",
    "    '''\n",
    "    Returns the disk's vertical frequency profile. \n",
    "    \n",
    "    VARIABLES:\n",
    "    ----------\n",
    "    Rs is the radial domain.\n",
    "    Mp_in is the ratio of the inner planet's mass to the star mass (using the normalization \n",
    "    GM_star = 1). For example, if we assume M_star = 1 M_sun, then a Jupiter-mass\n",
    "    planet would have Mp = 0.001.\n",
    "    a_in is the radius of the inner planet's orbit.\n",
    "    \n",
    "    Mp_out and a_out are defined similarly. To ``turn off'' either planet, set\n",
    "    its mass to 0.\n",
    "\n",
    "    '''\n",
    "\n",
    "    OmegaKs = OmegaK(Rs)\n",
    "    alphas_in = Rs/a_in\n",
    "    alphas_out = Rs/a_out\n",
    "    \n",
    "    inner_pl_term = Mp_in/(2 * a_in**2 * Rs) * alphas_in*b0_approx(alphas_in, \"large\")\n",
    "    outer_pl_term = Mp_out/(2 * a_out**2 * Rs) * alphas_out*b0_approx(alphas_out, \"small\")\n",
    "        \n",
    "    Omegazs_sq = OmegaKs**2 + inner_pl_term + outer_pl_term\n",
    "    \n",
    "    return np.sqrt(Omegazs_sq)"
   ]
  },
  {
   "cell_type": "markdown",
   "id": "e3d0965d",
   "metadata": {},
   "source": [
    "### Disk scale height"
   ]
  },
  {
   "cell_type": "code",
   "execution_count": 11,
   "id": "e95180de",
   "metadata": {},
   "outputs": [],
   "source": [
    "def scaleHeight(Rs):\n",
    "    '''\n",
    "    Returns the disk's scale height profile. We use H = c_sound / Omega_K.\n",
    "\n",
    "    '''\n",
    "    return cs / OmegaK(Rs)"
   ]
  },
  {
   "cell_type": "code",
   "execution_count": 12,
   "id": "5f0c978c-5285-42e5-bb3c-300c2790a23d",
   "metadata": {},
   "outputs": [],
   "source": [
    "# # spatial and time domains\n",
    "# Rmin = 0.5\n",
    "# Rmax = 3.5 \n",
    "# Rmid = 1.5 # arbitrary point in middle of disk gap\n",
    "    \n",
    "# DeltaR = 0.1 # 0.03\n",
    "# num_Rs = (int) ((Rmax - Rmin) / DeltaR) + 1\n",
    "\n",
    "# # stagger W and G in the R domain\n",
    "# Rs_warp = np.linspace(Rmin, Rmax, num_Rs)\n",
    "\n",
    "# cses = scaleHeight(Rs_warp)\n",
    "# plt.plot(Rs_warp, 10*cses)\n",
    "\n",
    "# print(\"Courant condition: dt < \", DeltaR / max(cses))"
   ]
  },
  {
   "cell_type": "markdown",
   "id": "89f0a6fd-75b6-4c27-9a84-ff351f6f55a0",
   "metadata": {},
   "source": [
    "## Integration functions\n",
    "\n",
    "Boundary conditions:\n",
    "- $\\mathcal{G}(R) = 0$ at the inner and outer disk edges\n",
    "\n",
    "Initial conditions:\n",
    "- $\\mathcal{W}(R_\\text{min}, 0) = 0$ \n",
    "- $\\mathcal{W}(R_\\text{max}, 0) = 0.1$ \n",
    "- $\\mathcal{W}(R,0)$ is some smooth function (eg, Gaussian integral)"
   ]
  },
  {
   "cell_type": "markdown",
   "id": "d446d2c8-5c11-4749-ad59-90da77e637dc",
   "metadata": {
    "jp-MarkdownHeadingCollapsed": true
   },
   "source": [
    "### `dG_dt, dW_dt`"
   ]
  },
  {
   "cell_type": "code",
   "execution_count": 13,
   "id": "8e4a5c2e-1410-4d0a-a95b-06da80e40463",
   "metadata": {
    "code_folding": [
     0,
     44
    ]
   },
   "outputs": [],
   "source": [
    "def dG_dt(Rs_torque, Gs, Rs_warp, Ws, Mp_in, a_in, Mp_out, a_out, use_gap):\n",
    "    '''\n",
    "    Returns dG/dt over the R domain (Rs_torque) for Gs.\n",
    "    \n",
    "    Assumes that `Ws` and `Gs` are staggered in the R domain:\n",
    "    Ws should be indexed from 0 through N, while `Gs` should be indexed\n",
    "    from -1/2 to N+1/2.\n",
    "    \n",
    "    Mp_in and a_in are the inner planet's mass and orbital radius respectively\n",
    "    and similarly for the outer planet.\n",
    "\n",
    "    `use_gap` toggles if the disk's background profile has a gap.\n",
    "    \n",
    "    '''\n",
    "    \n",
    "    # validate parameters\n",
    "    if (len(Rs_torque) != len(Gs)):\n",
    "        raise ValueError(\"Rs_torque and Gs must have same length\")\n",
    "    if (len(Rs_warp) != len(Ws)):\n",
    "        raise ValueError(\"Rs_warp and Ws must have same length\")\n",
    "    if (len(Rs_torque) != (len(Rs_warp) + 1)):\n",
    "        raise ValueError(\"Length of Rs_torque should be (length of Rs_warp)+1\")\n",
    "    if (Gs[0] != 0 or Gs[-1] != 0):\n",
    "        raise ValueError(\"First and last entries in Gs should be 0\")\n",
    "\n",
    "    # since we're changing G, compute values over G's R domain\n",
    "    Sigmas = Sigma(Rs_torque, use_gap) # length N+2\n",
    "    Hs = scaleHeight(Rs_torque)\n",
    "    Omegas = Omega(Rs_torque, Mp_in, a_in, Mp_out, a_out)\n",
    "    \n",
    "    dW_dRs_mid = (Ws[1:] - Ws[:-1]) / (Rs_warp[1:] - Rs_warp[:-1]) # length N\n",
    "    dW_dRs = np.zeros(shape=Rs_torque.shape, dtype=complex)\n",
    "    dW_dRs[1:-1] = dW_dRs_mid\n",
    "\n",
    "    # sloshing term\n",
    "    slosh_term = Sigmas * (Hs**2) * (Omegas**3) * (Rs_torque**3) / 4 * dW_dRs\n",
    "    # external torque term\n",
    "    Kappas = Kappa(Rs_torque, Mp_in, a_in, Mp_out, a_out)\n",
    "    ext_term = (-1) * (Kappas**2 - Omegas**2) / (Omegas**2) * (1j*Omegas/2) * Gs\n",
    "    # viscous term\n",
    "    visc_term = (-1) * alpha * Omegas * Gs \n",
    "    \n",
    "    dG_dts = slosh_term + ext_term + visc_term\n",
    "    \n",
    "    return dG_dts\n",
    "\n",
    "def dW_dt(Rs_torque, Gs, Rs_warp, Ws, Mp_in, a_in, Mp_out, a_out,\\\n",
    "          use_gap, inner_BC=\"None\", outer_BC=\"None\"):\n",
    "    '''\n",
    "    Returns dW/dt over the R domain (Rs) for Ws.\n",
    "    \n",
    "    Assumes that `Ws` and `Gs` are staggered in the R domain:\n",
    "    Ws should be indexed from 0 through N, while `Gs` should be indexed\n",
    "    from -1/2 to N+1/2.\n",
    "    \n",
    "    Mp_in and a_in are the inner planet's mass and orbital radius respectively\n",
    "    and similarly for the outer planet.\n",
    "\n",
    "    `use_gap` toggles if the disk's background profile has a gap.\n",
    "    \n",
    "    `inner_BC` and `outer_BC` determine the boundary conditions (BCs). The possible\n",
    "    values are:\n",
    "    1. \"None\": No BC.\n",
    "    2. \"Dirichlet\": W=constant.\n",
    "    3. \"Neumann\": dW_dR=0.\n",
    "\n",
    "    '''\n",
    "\n",
    "    # validate parameters\n",
    "    if (len(Rs_torque) != len(Gs)):\n",
    "        raise ValueError(\"Rs_torque and Gs must have same length\")\n",
    "    if (len(Rs_warp) != len(Ws)):\n",
    "        raise ValueError(\"Rs_warp and Ws must have same length\")\n",
    "    if (len(Rs_torque) != (len(Rs_warp) + 1)):\n",
    "        raise ValueError(\"Length of Rs_torque should be (length of Rs_warp)+1\") \n",
    "    if (Gs[0] != 0 or Gs[-1] != 0):\n",
    "        raise ValueError(\"First and last entries in Gs should be 0\")\n",
    "        \n",
    "    # since we're changing W, compute values over W's R domain\n",
    "    Sigmas = Sigma(Rs_warp, use_gap) # length N+1\n",
    "    Omegas = Omega(Rs_warp, Mp_in, a_in, Mp_out, a_out)\n",
    "    \n",
    "    # defines dG_dR for the W indices 0 through N\n",
    "    dG_dRs = (Gs[1:] - Gs[:-1]) / (Rs_torque[1:] - Rs_torque[:-1]) # length N+1\n",
    "    \n",
    "    # internal torquing term\n",
    "    int_term = dG_dRs / (Sigmas * Omegas * Rs_warp**3)\n",
    "    # external torque term\n",
    "    Omega_zs = Omega_z(Rs_warp, Mp_in, a_in, Mp_out, a_out)\n",
    "    ext_term = (-1) * (Omega_zs**2 - Omegas**2) / (Omegas**2) * (1j*Omegas/2) * Ws\n",
    "\n",
    "    dW_dts = int_term + ext_term\n",
    "    \n",
    "    # enforce boundary conditions\n",
    "    if inner_BC==\"Dirichlet\":\n",
    "        dW_dts[0] = 0 \n",
    "    elif inner_BC==\"Neumann\": # set W[0] equal to W[1]\n",
    "        dW_dts[0] = (dW_dts[1] + Ws[1]) - Ws[0]\n",
    "    elif inner_BC != \"None\":\n",
    "        raise ValueError(\"inner_BC must be \\\"Dirichlet\\\", \\\"Neumann\\\", or \\\"None\\\"\")\n",
    "    \n",
    "    if outer_BC==\"Dirichlet\":\n",
    "        dW_dts[-1] = 0 \n",
    "    elif outer_BC==\"Neumann\": # set W[-1] equal to W[-2]\n",
    "        dW_dts[-1] = (dW_dts[-2] + Ws[-2]) - Ws[-1]\n",
    "    elif outer_BC != \"None\":\n",
    "        raise ValueError(\"outer_BC must be \\\"Dirichlet\\\", \\\"Neumann\\\", or \\\"None\\\"\")\n",
    "    \n",
    "    return dW_dts"
   ]
  },
  {
   "cell_type": "markdown",
   "id": "29ba0de4-71fd-465f-8841-fee20cfb06d5",
   "metadata": {
    "jp-MarkdownHeadingCollapsed": true
   },
   "source": [
    "### `evolve_G, evolve_W`"
   ]
  },
  {
   "cell_type": "code",
   "execution_count": 14,
   "id": "7bbb2f93-4acb-4c6c-bbe7-9bebfd8678d6",
   "metadata": {
    "code_folding": [
     20
    ]
   },
   "outputs": [],
   "source": [
    "def evolve_G(Rs_torque, Gs, Rs_warp, Ws, dt, Mp_in, a_in, Mp_out, a_out, use_gap):\n",
    "    '''\n",
    "    Use the predictor-corrector method to evolve G(R) forward by one timestep (dt).\n",
    "    W and G are staggered in the R domain; see `dG_dt' or `dW_dt' function.\n",
    "    \n",
    "    Mp_in and a_in are the inner planet's mass and orbital radius respectively\n",
    "    and similarly for the outer planet.\n",
    "\n",
    "    `use_gap` toggles if the disk's background profile has a gap.\n",
    "\n",
    "    '''\n",
    "\n",
    "    # predictor step\n",
    "    F1 = dG_dt(Rs_torque, Gs, Rs_warp, Ws, Mp_in, a_in, Mp_out, a_out, use_gap)\n",
    "    Gprimes = Gs + F1*dt\n",
    "\n",
    "    # corrector step\n",
    "    F2 = dG_dt(Rs_torque, Gprimes, Rs_warp, Ws, Mp_in, a_in, Mp_out, a_out, use_gap)\n",
    "    Gnexts = Gs + (F1+F2)/2 * dt\n",
    "\n",
    "    return Gnexts\n",
    "\n",
    "def evolve_W(Rs_torque, Gs, Rs_warp, Ws, dt, Mp_in, a_in, Mp_out, a_out, \\\n",
    "             use_gap, inner_BC=\"None\", outer_BC=\"None\"):\n",
    "    '''\n",
    "    Use the predictor-corrector method to evolve W(R) forward by one timestep (dt).\n",
    "    W and G are staggered in the R domain; see `dG_dt' or `dW_dt' function.\n",
    "    \n",
    "    Mp_in and a_in are the inner planet's mass and orbital radius respectively\n",
    "    and similarly for the outer planet.\n",
    "\n",
    "    `use_gap` toggles if the disk's background profile has a gap.\n",
    "    \n",
    "    `inner_BC` and `outer_BC` determine the boundary conditions (BCs). The possible\n",
    "    values are:\n",
    "    1. \"None\": No BC.\n",
    "    2. \"Dirichlet\": W=constant.\n",
    "    3. \"Neumann\": dW_dR=0.\n",
    "    \n",
    "    '''\n",
    "\n",
    "    # predictor step\n",
    "    F1 = dW_dt(Rs_torque, Gs, Rs_warp, Ws, Mp_in, a_in, Mp_out, a_out, use_gap, \\\n",
    "             inner_BC, outer_BC)\n",
    "    Wprimes = Ws + F1*dt\n",
    "\n",
    "    # corrector step\n",
    "    F2 = dW_dt(Rs_torque, Gs, Rs_warp, Wprimes, Mp_in, a_in, Mp_out, a_out, use_gap, \\\n",
    "             inner_BC, outer_BC)\n",
    "    Wnexts = Ws + (F1+F2)/2 * dt\n",
    "\n",
    "    return Wnexts"
   ]
  },
  {
   "cell_type": "code",
   "execution_count": 15,
   "id": "bd990d59-bdea-46a8-86ef-266b38a73a46",
   "metadata": {
    "code_folding": []
   },
   "outputs": [],
   "source": [
    "def integrate(Rs_torque, Gs, Rs_warp, Ws, ts, Mp_in, a_in, Mp_out, a_out,\\\n",
    "          use_gap, inner_BC=\"None\", outer_BC=\"None\"):\n",
    "    '''\n",
    "\n",
    "    Integrate W(R) and G(R) over a given time domain (ts). Returns W(R) and \n",
    "    G(R) at the final timestep.\n",
    "    \n",
    "    W and G are staggered in the R domain; see `dG_dt' or `dW_dt' function.\n",
    "    \n",
    "    Mp_in and a_in are the inner planet's mass and orbital radius respectively\n",
    "    and similarly for the outer planet.\n",
    "\n",
    "    `use_gap` toggles if the disk's background profile has a gap.\n",
    "    \n",
    "    If `inner_Neumann` is True, ensures that dW_dR=0 at the inner boundary \n",
    "    (ie, at R_min). Else, we do not change W at R_min (this is equivalent to \n",
    "    a Dirichlet boundary condition).\n",
    "    The same is true for `outer_Neumann`, except applied to the outer boundary.\n",
    "    See `dW_dt` function.\n",
    "\n",
    "    '''\n",
    "\n",
    "    # save W at different timepoints\n",
    "    W_tseries = pd.DataFrame(columns=Rs_warp, dtype=complex)\n",
    "    W_tseries.loc[ts[0]] = Ws.astype(complex)\n",
    "    \n",
    "    # at each t, save the tilt at the middle of the R domain\n",
    "    Wmids = np.empty_like(ts, dtype=complex)\n",
    "    \n",
    "    for i in range(len(ts)-1):\n",
    "        t = ts[i]\n",
    "        dt = ts[i+1] - ts[i]\n",
    "        Gnexts = evolve_G(Rs_torque, Gs, Rs_warp, Ws, dt, Mp_in, a_in, Mp_out, a_out, use_gap)\n",
    "        Wnexts = evolve_W(Rs_torque, Gs, Rs_warp, Ws, dt, Mp_in, a_in, Mp_out, a_out,\\\n",
    "             use_gap, inner_BC, outer_BC)\n",
    "\n",
    "        Ws, Gs = Wnexts, Gnexts \n",
    "        Wmids[i] = np.take(Ws, Ws.size // 2)\n",
    "        \n",
    "        if (i % 100 == 0):\n",
    "            W_tseries.loc[t] = Ws.astype(complex)\n",
    "\n",
    "    return Ws, Gs, Wmids, W_tseries"
   ]
  },
  {
   "cell_type": "markdown",
   "id": "1771bc1d-8a42-4661-9e78-ac0f6fcc9d84",
   "metadata": {},
   "source": [
    "## Run a sim\n",
    "\n",
    "Note that, from the $\\frac{\\partial \\mathcal{G}}{\\partial t} = \\frac{\\Sigma H^2 \\Omega^3 R^3}4 \\frac{\\partial \\mathcal{W}}{\\partial R}  - \\alpha \\Omega G$, we can see that $t \\sim \\Omega^{-1} h^{-1}$ and $t \\sim \\Omega^{-1} \\alpha^{-1} $ are both relevant timescales. This corresponds to $\\sim$10-100 $\\Omega^{-1}$."
   ]
  },
  {
   "cell_type": "code",
   "execution_count": 16,
   "id": "3c639a4b",
   "metadata": {
    "code_folding": []
   },
   "outputs": [],
   "source": [
    "# determine whether we add an inner and/or outer planet\n",
    "use_inner_pl = False\n",
    "use_outer_pl = False\n",
    "\n",
    "Mp_in, a_in = 0, 0.45 # inner planet\n",
    "Mp_out, a_out = 0, 4 # outer planet\n",
    "    \n",
    "if use_inner_pl:\n",
    "    Mp_in = 0.1\n",
    "if use_outer_pl:\n",
    "    Mp_out = 0.1"
   ]
  },
  {
   "cell_type": "code",
   "execution_count": 32,
   "id": "55da46b9-3e37-4af9-a4f2-3947e0623674",
   "metadata": {
    "code_folding": [],
    "tags": []
   },
   "outputs": [],
   "source": [
    "# spatial and time domains\n",
    "Rmin = 0.5\n",
    "Rmax = 3.5 \n",
    "Rmid = 1.5 # arbitrary point in middle of disk gap\n",
    "    \n",
    "DeltaR = 0.1 # 0.03\n",
    "num_Rs = (int) ((Rmax - Rmin) / DeltaR) + 1\n",
    "\n",
    "# stagger W and G in the R domain\n",
    "Rs_warp = np.linspace(Rmin, Rmax, num_Rs)\n",
    "Rs_torque = np.zeros(shape=((num_Rs+1)))\n",
    "Rs_torque[0] = Rs_warp[0] - DeltaR/2\n",
    "Rs_torque[1:] = Rs_warp.copy() + DeltaR/2\n",
    "\n",
    "tmin = 0\n",
    "tmax = 2000\n",
    "Deltat = .05 # 0.03\n",
    "num_ts = (int) ((tmax - tmin) / Deltat) + 1\n",
    "ts = np.linspace(tmin, tmax, num_ts)\n",
    "\n",
    "# disk that's initially flat but tilted\n",
    "#Ws_init = np.zeros(shape=Rs_warp.shape, dtype=complex) + 0.1\n",
    "#Ws_init.astype(complex)\n",
    "\n",
    "# disk that's initially warped\n",
    "Ws_init = 0.1 * np.cumsum(np.exp(-(Rs_warp-2)**2 / 2) / np.sqrt(2*np.pi)) * DeltaR\n",
    "#Ws_init = (Ws_init + 0.5j*Ws_init).astype(complex)\n",
    "#if use_outer_pl:\n",
    " #   Ws_init -= Ws_init[-1] # shifts W_init down so inclination=0 at outer edge\n",
    "Ws_init.astype(complex)\n",
    "\n",
    "Wmids = np.empty_like(Ws_init, dtype=complex)\n",
    "\n",
    "#Ws = np.zeros(shape=Rs.shape) + (Rs-0.5)/30 # tilt W(R)\n",
    "Gs_init = np.zeros(shape=Rs_torque.shape) # torque G(R)\n",
    "Gs_init = Gs_init.astype(complex)"
   ]
  },
  {
   "cell_type": "code",
   "execution_count": 33,
   "id": "44fe6310-b034-4798-b6ff-4ce690be84b1",
   "metadata": {
    "scrolled": true
   },
   "outputs": [
    {
     "name": "stdout",
     "output_type": "stream",
     "text": [
      "Elapsed time: 8.94\n"
     ]
    }
   ],
   "source": [
    "# turn off disk gap\n",
    "use_gap = False\n",
    "\n",
    "# set boundary conditions\n",
    "inner_BC = \"None\"\n",
    "outer_BC = \"None\"\n",
    "if use_inner_pl:\n",
    "    inner_BC = \"Neumann\"\n",
    "if use_outer_pl:\n",
    "    outer_BC = \"Neumann\"\n",
    "\n",
    "resume_sim = False\n",
    "\n",
    "start = time.time()\n",
    "\n",
    "if resume_sim:\n",
    "    ## use below line if you want to use a previous sim's results\n",
    "    Ws_final, Gs_final, Wmids, W_tseries = integrate(Rs_torque, Gs_final, Rs_warp, Ws_final, ts, Mp_in, a_in,\\\n",
    "                Mp_out, a_out, use_gap, inner_BC, outer_BC)\n",
    "    #tstop += tmax\n",
    "else:\n",
    "    Ws_final, Gs_final, Wmids, W_tseries = integrate(Rs_torque, Gs_init, Rs_warp, Ws_init, ts, Mp_in, a_in,\\\n",
    "                Mp_out, a_out, use_gap, inner_BC, outer_BC)\n",
    "    tstop = tmax\n",
    "\n",
    "\n",
    "end = time.time()\n",
    "print(\"Elapsed time:\", np.round(end - start, 2))"
   ]
  },
  {
   "cell_type": "code",
   "execution_count": 34,
   "id": "84217ed4",
   "metadata": {},
   "outputs": [
    {
     "data": {
      "image/png": "[encoded data removed]",
      "text/plain": [
       "<Figure size 1000x800 with 2 Axes>"
      ]
     },
     "metadata": {},
     "output_type": "display_data"
    }
   ],
   "source": [
    "fig, axs = plt.subplots(2, sharex=True, figsize=(10,8))\n",
    "fig.set_facecolor(\"white\")\n",
    "\n",
    "axs[0].plot(Rs_warp, Ws_init.real, c=\"blue\", ls=\"--\", label=\"initial W\")\n",
    "axs[0].plot(Rs_warp, Ws_final.real, c=\"blue\", label=\"W(R)\")\n",
    "axs[0].plot(Rs_torque, Gs_init.real, c=\"orange\", ls=\"--\", label=\"initial G(R)\")\n",
    "axs[0].plot(Rs_torque, Gs_final.real, c=\"orange\", label=\"G(R)\")\n",
    "\n",
    "ymin, ymax= min(min(Ws_init.real), min(Ws_final.real)) - .01, max(max(Ws_init.real), max(Ws_final.real)) + .01\n",
    "if use_gap:\n",
    "    R_a, R_b = 1, 2\n",
    "    axs[0].vlines(R_a, ymin, ymax, color=\"black\", linestyle=\":\")\n",
    "    axs[0].vlines(R_b, ymin, ymax, color=\"black\", linestyle=\":\", label=\"Gap edges\")\n",
    "\n",
    "axs[0].set_ylim(ymin,ymax)\n",
    "\n",
    "axs[1].scatter([],[], s=0, label=\"t=\" + str(max(tstop,tmax)))\n",
    "axs[1].scatter([],[], s=0, label=\"alpha=\" + str(alpha))\n",
    "axs[1].scatter([],[], s=0, label=\"h=\" + str(cs))\n",
    "#axs[1].scatter([],[], s=0, label=\"BCs: G=0\")\n",
    "dt = np.round(ts[1] - ts[0],3)\n",
    "axs[1].scatter([],[], s=0, label=\"dt=\"+str(dt))\n",
    "if use_inner_pl:\n",
    "    axs[1].scatter([],[], s=0, label=\"Mp_in=\" + str(Mp_in))\n",
    "    axs[1].scatter([],[], s=0, label=\"a_in=\" + str(a_in))\n",
    "if use_outer_pl:\n",
    "    axs[1].scatter([],[], s=0, label=\"Mp_out=\" + str(Mp_out))\n",
    "    axs[1].scatter([],[], s=0, label=\"a_out=\" + str(a_out))\n",
    "\n",
    "axs[0].legend()\n",
    "axs[0].set_title(\"Real component\")\n",
    "\n",
    "axs[1].plot(Rs_warp, Ws_init.imag, c=\"blue\", ls=\"--\")#, label=\"initial W\")\n",
    "axs[1].plot(Rs_warp, Ws_final.imag, c=\"blue\")#, label=\"W(R)\")\n",
    "axs[1].plot(Rs_torque, Gs_init.imag, c=\"orange\", ls=\"--\")#, label=\"initial G(R)\")\n",
    "axs[1].plot(Rs_torque, Gs_final.imag, c=\"orange\")#, label=\"G(R)\")\n",
    "\n",
    "ymin, ymax= min(Ws_final.imag) - .01, max(max(Ws_init.imag),max(Ws_final.imag)) + .01\n",
    "if use_gap:\n",
    "    R_a, R_b = 1, 2\n",
    "    axs[1].vlines(R_a, ymin, ymax, color=\"black\", linestyle=\":\")\n",
    "    axs[1].vlines(R_b, ymin, ymax, color=\"black\", linestyle=\":\")#, label=\"Gap edges\")\n",
    "\n",
    "axs[1].set_xlim(Rmin - 0.1, Rmax + 0.1)\n",
    "axs[1].set_ylim(ymin,ymax)\n",
    "\n",
    "axs[1].legend()\n",
    "axs[1].set_title(\"Imaginary component\")\n",
    "\n",
    "axs[1].set_xlabel(\"R\")\n",
    "\n",
    "save_figs = True\n",
    "\n",
    "if save_figs:\n",
    "    filepath = \"Figures/t=\" + str(tmax) + \".png\"\n",
    "    plt.savefig(filepath)\n",
    "\n",
    "plt.show()"
   ]
  },
  {
   "cell_type": "code",
   "execution_count": 35,
   "id": "51ed290e",
   "metadata": {},
   "outputs": [
    {
     "name": "stdout",
     "output_type": "stream",
     "text": [
      "Ratio of final W difference to initial: 8.73E-03\n"
     ]
    }
   ],
   "source": [
    "# check how much the disk has flattened (ratio should be ~1e-2)\n",
    "\n",
    "Wdiff_ratio = (max(Ws_final) - min(Ws_final)) / (Ws_init[-1] - Ws_init[0])\n",
    "print(\"Ratio of final W difference to initial: {:.2E}\".format(Wdiff_ratio.real))\n",
    "\n",
    "# dW_init = max(W_tseries.loc[0].values) - min(W_tseries.loc[0].values)\n",
    "# dW_final = max(W_tseries.loc[1300].values) - min(W_tseries.loc[1300].values)\n",
    "# dW_final / dW_init"
   ]
  },
  {
   "cell_type": "markdown",
   "id": "7ae5dea9-1744-40ff-a193-8e6dd3595526",
   "metadata": {},
   "source": [
    "### load or save data"
   ]
  },
  {
   "cell_type": "code",
   "execution_count": 36,
   "id": "82fc8096-9e4b-4780-841f-f1d4c540f126",
   "metadata": {},
   "outputs": [],
   "source": [
    "file_path = \"Data/W_tseries/alpha=\" + str(alpha) + \",h=\" + str(cs) + \"_G=0_noGap_dt=\" + str(Deltat) + \".h5\"\n",
    "\n",
    "# temp = pd.read_hdf(file_path, key='W_tseries', mode='r')\n",
    "save_data = True\n",
    "if save_data:\n",
    "    if resume_sim:\n",
    "        W_tseries.to_hdf(file_path, key='W_tseries', mode='a', append=True, index=True) # `mode=a` means appending (or writing if file is new)\n",
    "    else:\n",
    "        W_tseries.to_hdf(file_path, key='W_tseries', mode='w', append=False, index=True)"
   ]
  },
  {
   "cell_type": "code",
   "execution_count": 39,
   "id": "92feceef-acd5-4cc1-a579-53e3e9e4fde7",
   "metadata": {},
   "outputs": [],
   "source": [
    "file_path0 = \"Data/W_tseries/alpha=\" + str(alpha) + \",h=\" + str(cs) + \"_G=0_noGap_dt=0.05.h5\"\n",
    "file_path1 = \"Data/W_tseries/alpha=\" + str(alpha) + \",h=\" + str(cs) + \"_G=0_noGap.h5\"\n",
    "file_path2 = \"Data/W_tseries/alpha=\" + str(alpha) + \",h=\" + str(cs) + \"_G=0_noGap_dt=0.2.h5\"\n",
    "file_path3 = \"Data/W_tseries/alpha=\" + str(alpha) + \",h=\" + str(cs) + \"_G=0_noGap_dt=0.3.h5\"\n",
    "\n",
    "W_tseries0 = pd.read_hdf(file_path0, key='W_tseries', mode='r')\n",
    "W_tseries1 = pd.read_hdf(file_path1, key='W_tseries', mode='r')\n",
    "W_tseries2 = pd.read_hdf(file_path2, key='W_tseries', mode='r')\n",
    "W_tseries3 = pd.read_hdf(file_path3, key='W_tseries', mode='r')\n"
   ]
  },
  {
   "cell_type": "code",
   "execution_count": 45,
   "id": "7199c848",
   "metadata": {},
   "outputs": [
    {
     "data": {
      "image/png": "[encoded data removed]",
      "text/plain": [
       "<Figure size 640x480 with 1 Axes>"
      ]
     },
     "metadata": {},
     "output_type": "display_data"
    }
   ],
   "source": [
    "fig = plt.figure()\n",
    "fig.set_facecolor(\"white\")\n",
    "\n",
    "# plot results of one sim\n",
    "#plt.plot(temp.index[::], temp[2].values.real[::], label=\"saved W_x\")\n",
    "#plt.plot(ts[0:-1:100], Wmids.real[0:-1:100], label=\"W_x\")\n",
    "#plt.plot(ts[0:-1:100], Wmids.imag[0:-1:100], label=\"W_y\")\n",
    "\n",
    "# compare results from multiple sims\n",
    "plt.plot(W_tseries0.index, W_tseries0[2].values.real, label=\"dt=0.05\")\n",
    "plt.plot(W_tseries1.index, W_tseries1[2].values.real, label=\"dt=0.1\")\n",
    "plt.plot(W_tseries2.index, W_tseries2[2].values.real, label=\"dt=0.2\")\n",
    "plt.plot(W_tseries3.index, W_tseries3[2].values.real, label=\"dt=0.3\")\n",
    "\n",
    "plt.scatter([],[], s=0, label=\"alpha=\" + str(alpha))\n",
    "plt.scatter([],[], s=0, label=\"h=\" + str(cs))\n",
    "#plt.scatter([],[], s=0, label=\"BCs: G=0\")\n",
    "# plt.scatter([],[], s=0, label=\"dt=\" + str(dt))\n",
    "\n",
    "plt.xlabel(\"t\")\n",
    "plt.ylabel(r\"$\\mathcal{W}$\")\n",
    "#plt.ylim(0.02, 0.06)\n",
    "\n",
    "plt.title(r\"$\\mathcal{W}_x$ at R=2\")\n",
    "plt.legend()\n",
    "\n",
    "if save_figs:\n",
    "    plt.savefig(\"Figures/Wmid_evoln_t=\" + str(max(tmax,tstop)) + \".png\")\n",
    "\n",
    "plt.show()\n"
   ]
  },
  {
   "cell_type": "markdown",
   "id": "d7e37716-ced5-43e8-85e5-305bccd00fda",
   "metadata": {
    "jp-MarkdownHeadingCollapsed": true
   },
   "source": [
    "## Compare to steady-state solution"
   ]
  },
  {
   "cell_type": "markdown",
   "id": "c2c7bd54",
   "metadata": {
    "jp-MarkdownHeadingCollapsed": true
   },
   "source": [
    "### plug into PDEs"
   ]
  },
  {
   "cell_type": "code",
   "execution_count": null,
   "id": "a04acf0b",
   "metadata": {},
   "outputs": [],
   "source": [
    "fig = plt.figure(figsize=(6,4))\n",
    "fig.set_facecolor(\"white\")\n",
    "\n",
    "dWdts_init = dW_dt(Rs_torque, Gs_init, Rs_warp, Ws_init, Mp_in, a_in, Mp_out, a_out, \\\n",
    "       inner_BC, outer_BC)\n",
    "\n",
    "plt.plot(Rs_warp, np.abs(dWdts_init), label=\"init\")\n",
    "\n",
    "dWdts_final = dW_dt(Rs_torque, Gs_final, Rs_warp, Ws_final, Mp_in, a_in, Mp_out, a_out, \\\n",
    "       inner_BC, outer_BC)\n",
    "\n",
    "plt.plot(Rs_warp, np.abs(dWdts_final), label=\"final\")\n",
    "\n",
    "plt.scatter([],[], s=0, label=\"t=\" + str(tstop))\n",
    "\n",
    "plt.xlabel(\"R\")\n",
    "plt.yscale(\"log\")\n",
    "plt.title(\"|dW/dt|\")\n",
    "\n",
    "plt.legend()\n",
    "if save_figs:\n",
    "    filepath = \"Figures/dWdt_t=\" + str(tstop) + \".png\"\n",
    "    plt.savefig(filepath)\n",
    "plt.show()"
   ]
  },
  {
   "cell_type": "code",
   "execution_count": null,
   "id": "7943c094",
   "metadata": {},
   "outputs": [],
   "source": [
    "fig = plt.figure(figsize=(6,4))\n",
    "fig.set_facecolor(\"white\")\n",
    "\n",
    "dGdts_init = dG_dt(Rs_torque, Gs_init, Rs_warp, Ws_init, Mp_in, a_in, Mp_out, a_out)\n",
    "\n",
    "plt.plot(Rs_torque, np.abs(dGdts_init), label=\"init\")\n",
    "\n",
    "dGdts_final = dG_dt(Rs_torque, Gs_final, Rs_warp, Ws_final, Mp_in, a_in, Mp_out, a_out)\n",
    "\n",
    "plt.plot(Rs_torque, np.abs(dGdts_final), label=\"final\")\n",
    "\n",
    "plt.scatter([],[], s=0, label=\"t=\" + str(tstop))\n",
    "\n",
    "plt.xlabel(\"R\")\n",
    "plt.yscale(\"log\")\n",
    "plt.title(\"|dG/dt|\")\n",
    "\n",
    "plt.legend()\n",
    "if save_figs:\n",
    "    filepath = \"Figures/dGdt_t=\" + str(tstop) + \".png\"\n",
    "    plt.savefig(filepath)\n",
    "plt.show()"
   ]
  },
  {
   "cell_type": "markdown",
   "id": "f0711926",
   "metadata": {
    "jp-MarkdownHeadingCollapsed": true
   },
   "source": [
    "### compare to dW/dR"
   ]
  },
  {
   "cell_type": "code",
   "execution_count": null,
   "id": "801fa16a",
   "metadata": {},
   "outputs": [],
   "source": [
    "# check that, if Neumann conditions are on, W changes at boundaries\n",
    "# print(Ws[0] - Ws_final[0])\n",
    "# print(Ws[-1] - Ws_final[-1])"
   ]
  },
  {
   "cell_type": "code",
   "execution_count": null,
   "id": "e5870209",
   "metadata": {},
   "outputs": [],
   "source": [
    "#Gs_final[-1]"
   ]
  },
  {
   "cell_type": "code",
   "execution_count": null,
   "id": "1b2f8055",
   "metadata": {},
   "outputs": [],
   "source": [
    "#plt.plot(Gs_final)"
   ]
  },
  {
   "cell_type": "code",
   "execution_count": null,
   "id": "e3445d11",
   "metadata": {},
   "outputs": [],
   "source": [
    "def dW_dR_ss(Rs):\n",
    "    '''\n",
    "    Computes the steady-state value of dW_dR. Assumes no external torque, \n",
    "    so we can write G(R) = constant.\n",
    "    \n",
    "    '''\n",
    "    \n",
    "    return alpha * Omega(Rs_warp) * Gs_final[-1] / \\\n",
    "            (Sigma(Rs) * scaleHeight(Rs)**2 * Omega(Rs)**3 * Rs**3 / 4)\n",
    "\n",
    "\n",
    "# fig = plt.figure()\n",
    "# fig.set_facecolor(\"white\")\n",
    "\n",
    "# plt.plot(Rs_warp, np.gradient(Ws_final, Rs_warp), label=\"sim\")\n",
    "# # in steady-state, G should be constant\n",
    "# plt.plot(Rs_warp, dW_dR_ss(Rs_warp), label=\"steady state\")\n",
    "\n",
    "# plt.scatter([],[], s=0, label=\"t=\" + str(tmax))\n",
    "# plt.scatter([],[], s=0, label=\"alpha=\" + str(alpha))\n",
    "\n",
    "# plt.title(\"dW/dR\")\n",
    "# plt.legend()"
   ]
  },
  {
   "cell_type": "markdown",
   "id": "8650ecb7",
   "metadata": {
    "jp-MarkdownHeadingCollapsed": true
   },
   "source": [
    "## Visualize in 3D\n",
    "\n",
    "Given the tilt $\\mathcal{W}(R)$, visualize the disk in 3D space."
   ]
  },
  {
   "cell_type": "code",
   "execution_count": null,
   "id": "38230b21",
   "metadata": {
    "code_folding": [
     0
    ]
   },
   "outputs": [],
   "source": [
    "def plot_disk(Ws, Rs_warp):\n",
    "    '''\n",
    "    Given values of the tilt variable W over the domain Rs_warp, \n",
    "    plot the disk shape in 3D space.\n",
    "    \n",
    "    '''\n",
    "    \n",
    "    fig = plt.figure(figsize=(6,6))\n",
    "    fig.set_facecolor(\"white\")\n",
    "\n",
    "    ax = fig.add_subplot(111, projection='3d')\n",
    "    ax.set_xlabel('X')\n",
    "    ax.set_ylabel('Y')\n",
    "    ax.set_zlabel('Z')\n",
    "    maxcoord = 3.6\n",
    "    zlim = 1\n",
    "    ax.set_xlim(-maxcoord, maxcoord)\n",
    "    ax.set_ylim(-maxcoord, maxcoord)\n",
    "    ax.set_zlim(-zlim, zlim)\n",
    "    \n",
    "    lxs = Ws.real\n",
    "    lys = Ws.imag\n",
    "    \n",
    "    thetas = np.linspace(0, 2*np.pi, num=50)\n",
    "    thetas = np.reshape(thetas, (1, len(thetas)))\n",
    "    \n",
    "    # plot each ring separately\n",
    "    for i in range(len(Rs_warp)):\n",
    "        R = Rs_warp[i]\n",
    "        lx = lxs[i]\n",
    "        ly = lys[i]\n",
    "        \n",
    "        # \n",
    "        a_vec = np.array((-ly, lx, 0)) / np.sqrt(lx**2 + ly**2) # normalize\n",
    "        a_vec = np.reshape(a_vec, (3, 1))\n",
    "        \n",
    "        b_vec = np.array((-lx, -ly, lx**2 + ly**2)) / np.sqrt(2*lx**2 + 2*ly**2)\n",
    "        b_vec = np.reshape(b_vec, (3, 1))\n",
    "        \n",
    "        coords = R * (a_vec*np.cos(thetas) + b_vec*np.sin(thetas))\n",
    "        ax.plot(coords[0], coords[1], coords[2], alpha=0.8, color=\"gray\")\n",
    "        \n",
    "    plt.title(\"Disk visualization\")\n",
    "    plt.show()\n",
    "    "
   ]
  },
  {
   "cell_type": "code",
   "execution_count": null,
   "id": "bda0e882",
   "metadata": {},
   "outputs": [],
   "source": [
    "start = time.time()\n",
    "plot_disk(Ws_final, Rs_warp)\n",
    "end = time.time()\n",
    "print(\"Elapsed time:\", np.round(end - start, 2))"
   ]
  },
  {
   "cell_type": "code",
   "execution_count": null,
   "id": "075a1cab-dc0d-432d-a640-a8c4cad8a019",
   "metadata": {},
   "outputs": [],
   "source": []
  }
 ],
 "metadata": {
  "kernelspec": {
   "display_name": "Python 3 (ipykernel)",
   "language": "python",
   "name": "python3"
  },
  "language_info": {
   "codemirror_mode": {
    "name": "ipython",
    "version": 3
   },
   "file_extension": ".py",
   "mimetype": "text/x-python",
   "name": "python",
   "nbconvert_exporter": "python",
   "pygments_lexer": "ipython3",
   "version": "3.13.5"
  }
 },
 "nbformat": 4,
 "nbformat_minor": 5
}
