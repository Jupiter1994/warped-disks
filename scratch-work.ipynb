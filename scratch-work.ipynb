{
 "cells": [
  {
   "cell_type": "markdown",
   "id": "c2d3175f",
   "metadata": {},
   "source": [
    "This notebook is for testing pieces of code, exploring different packages, etc."
   ]
  },
  {
   "cell_type": "markdown",
   "id": "18c144f3",
   "metadata": {},
   "source": [
    "# Pandas DataFrames"
   ]
  },
  {
   "cell_type": "code",
   "execution_count": null,
   "id": "e4322cfe-45ae-4d56-bde2-efd2fb97480e",
   "metadata": {},
   "outputs": [],
   "source": [
    "# make 3D plots interactive\n",
    "use_interactive_plots = False\n",
    "if use_interactive_plots:\n",
    "    %matplotlib widget"
   ]
  },
  {
   "cell_type": "code",
   "execution_count": 1,
   "id": "56afc327",
   "metadata": {
    "scrolled": true
   },
   "outputs": [],
   "source": [
    "import tables\n",
    "\n",
    "import pandas as pd\n",
    "import numpy as np\n",
    "\n",
    "import matplotlib.pyplot as plt\n",
    "import matplotlib.gridspec as grid_spec"
   ]
  },
  {
   "cell_type": "markdown",
   "id": "6623e775-370b-44c1-ae7e-5855618289cd",
   "metadata": {},
   "source": [
    "## Load and save data (HDF5)"
   ]
  },
  {
   "cell_type": "code",
   "execution_count": null,
   "id": "2ad86bbc-18e2-4f71-a94e-d3793cf12183",
   "metadata": {},
   "outputs": [],
   "source": [
    "# df = pd.DataFrame({'A': [1, 2, 3], 'B': [4, 5, 6]},\n",
    "\n",
    "#                   index=['a', 'b', 'c'])  \n",
    "\n",
    "df.to_hdf5(\"Data/data.h5\", index=True)"
   ]
  },
  {
   "cell_type": "code",
   "execution_count": null,
   "id": "badb6948-5c7a-487f-8d64-09ff50cced1c",
   "metadata": {
    "scrolled": true
   },
   "outputs": [],
   "source": [
    "df_temp = pd.read_hdf('Data/data.h5', 'df')  "
   ]
  },
  {
   "cell_type": "code",
   "execution_count": null,
   "id": "47660660-c9a7-4330-8216-49eb99787874",
   "metadata": {},
   "outputs": [],
   "source": [
    "df_temp"
   ]
  },
  {
   "cell_type": "code",
   "execution_count": null,
   "id": "d3913df6-4bad-4f73-9938-6b5201837fbc",
   "metadata": {
    "scrolled": true
   },
   "outputs": [],
   "source": [
    "file_path = \"Data/W_tseries/corrupt_alpha=0.01,h=0.2_dW_dR=0.h5\"\n",
    "temp = pd.read_hdf(file_path)"
   ]
  },
  {
   "cell_type": "markdown",
   "id": "6aa52652-06f2-4478-906c-d79527fd4ee7",
   "metadata": {},
   "source": [
    "## Load and save data (csv)"
   ]
  },
  {
   "cell_type": "code",
   "execution_count": null,
   "id": "624b4bb5-8d55-40f7-a806-9abb82b3d453",
   "metadata": {},
   "outputs": [],
   "source": [
    "W_tseries = pd.read_csv(\"Data/W_tseries/alpha=0.01,h=0.2_dW_dR=0.csv\", index_col=0)\n",
    "W_tseries_copy = W_tseries.copy(deep=True)"
   ]
  },
  {
   "cell_type": "code",
   "execution_count": null,
   "id": "d01a35e6-59ba-445a-9b80-d8942322bac5",
   "metadata": {},
   "outputs": [],
   "source": [
    "W_tseries_copy.columns = np.asarray(W_tseries_copy.columns, dtype=float)"
   ]
  },
  {
   "cell_type": "code",
   "execution_count": null,
   "id": "47458fd2-fd29-4593-8610-872403feed19",
   "metadata": {
    "scrolled": true
   },
   "outputs": [],
   "source": [
    "for i in W_tseries_copy.index:\n",
    "    W_tseries_copy.loc[i].values = np.asarray(W_tseries_copy.loc[i], dtype=complex)"
   ]
  },
  {
   "cell_type": "code",
   "execution_count": null,
   "id": "aa4b6054-6dfc-486d-8476-6882464beac1",
   "metadata": {
    "scrolled": true
   },
   "outputs": [],
   "source": [
    "W_tseries_copy = W_tseries_copy.astype(complex)"
   ]
  },
  {
   "cell_type": "code",
   "execution_count": null,
   "id": "e56e8a4c-ec2b-473b-92f1-181496be9fcb",
   "metadata": {},
   "outputs": [],
   "source": [
    "file_path = \"Data/W_tseries/test_alpha=0.01,h=0.2_dW_dR=0.h5\"\n",
    "W_tseries_copy.to_hdf(file_path, key='W_tseries', mode='w', index=True)"
   ]
  },
  {
   "cell_type": "code",
   "execution_count": 2,
   "id": "225677d5-bfe0-422f-930d-4a1af973a71c",
   "metadata": {},
   "outputs": [],
   "source": [
    "file_path = \"Data/W_tseries/test_alpha=0.01,h=0.2_dW_dR=0.h5\"\n",
    "temp = pd.read_hdf(file_path, key='W_tseries', mode='r')"
   ]
  },
  {
   "cell_type": "code",
   "execution_count": 3,
   "id": "c2c10a21-e8ce-4736-942d-5e78ae2db82e",
   "metadata": {},
   "outputs": [
    {
     "data": {
      "text/html": [
       "<div>\n",
       "<style scoped>\n",
       "    .dataframe tbody tr th:only-of-type {\n",
       "        vertical-align: middle;\n",
       "    }\n",
       "\n",
       "    .dataframe tbody tr th {\n",
       "        vertical-align: top;\n",
       "    }\n",
       "\n",
       "    .dataframe thead th {\n",
       "        text-align: right;\n",
       "    }\n",
       "</style>\n",
       "<table border=\"1\" class=\"dataframe\">\n",
       "  <thead>\n",
       "    <tr style=\"text-align: right;\">\n",
       "      <th></th>\n",
       "      <th>0.5</th>\n",
       "      <th>0.6</th>\n",
       "      <th>0.7</th>\n",
       "      <th>0.8</th>\n",
       "      <th>0.9</th>\n",
       "      <th>1.0</th>\n",
       "      <th>1.1</th>\n",
       "      <th>1.2</th>\n",
       "      <th>1.3</th>\n",
       "      <th>1.4</th>\n",
       "      <th>...</th>\n",
       "      <th>2.6</th>\n",
       "      <th>2.7</th>\n",
       "      <th>2.8</th>\n",
       "      <th>2.9</th>\n",
       "      <th>3.0</th>\n",
       "      <th>3.1</th>\n",
       "      <th>3.2</th>\n",
       "      <th>3.3</th>\n",
       "      <th>3.4</th>\n",
       "      <th>3.5</th>\n",
       "    </tr>\n",
       "  </thead>\n",
       "  <tbody>\n",
       "    <tr>\n",
       "      <th>0.0</th>\n",
       "      <td>0.001298+0.000000j</td>\n",
       "      <td>0.002792+0.000000j</td>\n",
       "      <td>0.004506+0.000000j</td>\n",
       "      <td>0.006448+0.000000j</td>\n",
       "      <td>0.008627+0.000000j</td>\n",
       "      <td>0.011046+0.000000j</td>\n",
       "      <td>0.013707+0.000000j</td>\n",
       "      <td>0.016604+0.000000j</td>\n",
       "      <td>0.019727+0.000000j</td>\n",
       "      <td>0.023059+0.000000j</td>\n",
       "      <td>...</td>\n",
       "      <td>0.068175+0.000000j</td>\n",
       "      <td>0.071297+0.000000j</td>\n",
       "      <td>0.074194+0.000000j</td>\n",
       "      <td>0.076855+0.000000j</td>\n",
       "      <td>0.079275+0.000000j</td>\n",
       "      <td>0.081453+0.000000j</td>\n",
       "      <td>0.083395+0.000000j</td>\n",
       "      <td>0.085109+0.000000j</td>\n",
       "      <td>0.086606+0.000000j</td>\n",
       "      <td>0.087899+0.000000j</td>\n",
       "    </tr>\n",
       "    <tr>\n",
       "      <th>0.2</th>\n",
       "      <td>0.001575+0.000000j</td>\n",
       "      <td>0.002798+0.000000j</td>\n",
       "      <td>0.004507+0.000000j</td>\n",
       "      <td>0.006433+0.000000j</td>\n",
       "      <td>0.008578+0.000000j</td>\n",
       "      <td>0.011001+0.000000j</td>\n",
       "      <td>0.013697+0.000000j</td>\n",
       "      <td>0.016606+0.000000j</td>\n",
       "      <td>0.019730+0.000000j</td>\n",
       "      <td>0.023063+0.000000j</td>\n",
       "      <td>...</td>\n",
       "      <td>0.068173+0.000000j</td>\n",
       "      <td>0.071294+0.000000j</td>\n",
       "      <td>0.074190+0.000000j</td>\n",
       "      <td>0.076850+0.000000j</td>\n",
       "      <td>0.079270+0.000000j</td>\n",
       "      <td>0.081449+0.000000j</td>\n",
       "      <td>0.083391+0.000000j</td>\n",
       "      <td>0.085105+0.000000j</td>\n",
       "      <td>0.086600+0.000000j</td>\n",
       "      <td>0.087659+0.000000j</td>\n",
       "    </tr>\n",
       "    <tr>\n",
       "      <th>0.4</th>\n",
       "      <td>0.001821+0.000000j</td>\n",
       "      <td>0.002822+0.000000j</td>\n",
       "      <td>0.004510+0.000000j</td>\n",
       "      <td>0.006389+0.000000j</td>\n",
       "      <td>0.008437+0.000000j</td>\n",
       "      <td>0.010866+0.000000j</td>\n",
       "      <td>0.013667+0.000000j</td>\n",
       "      <td>0.016612+0.000000j</td>\n",
       "      <td>0.019742+0.000000j</td>\n",
       "      <td>0.023074+0.000000j</td>\n",
       "      <td>...</td>\n",
       "      <td>0.068170+0.000000j</td>\n",
       "      <td>0.071283+0.000000j</td>\n",
       "      <td>0.074177+0.000000j</td>\n",
       "      <td>0.076836+0.000000j</td>\n",
       "      <td>0.079256+0.000000j</td>\n",
       "      <td>0.081434+0.000000j</td>\n",
       "      <td>0.083377+0.000000j</td>\n",
       "      <td>0.085091+0.000000j</td>\n",
       "      <td>0.086577+0.000000j</td>\n",
       "      <td>0.087444+0.000000j</td>\n",
       "    </tr>\n",
       "    <tr>\n",
       "      <th>0.6</th>\n",
       "      <td>0.002053+0.000000j</td>\n",
       "      <td>0.002873+0.000000j</td>\n",
       "      <td>0.004513+0.000000j</td>\n",
       "      <td>0.006314+0.000000j</td>\n",
       "      <td>0.008210+0.000000j</td>\n",
       "      <td>0.010644+0.000000j</td>\n",
       "      <td>0.013613+0.000000j</td>\n",
       "      <td>0.016621+0.000000j</td>\n",
       "      <td>0.019761+0.000000j</td>\n",
       "      <td>0.023094+0.000000j</td>\n",
       "      <td>...</td>\n",
       "      <td>0.068163+0.000000j</td>\n",
       "      <td>0.071266+0.000000j</td>\n",
       "      <td>0.074155+0.000000j</td>\n",
       "      <td>0.076813+0.000000j</td>\n",
       "      <td>0.079232+0.000000j</td>\n",
       "      <td>0.081411+0.000000j</td>\n",
       "      <td>0.083354+0.000000j</td>\n",
       "      <td>0.085069+0.000000j</td>\n",
       "      <td>0.086530+0.000000j</td>\n",
       "      <td>0.087239+0.000000j</td>\n",
       "    </tr>\n",
       "    <tr>\n",
       "      <th>0.8</th>\n",
       "      <td>0.002283+0.000000j</td>\n",
       "      <td>0.002955+0.000000j</td>\n",
       "      <td>0.004516+0.000000j</td>\n",
       "      <td>0.006209+0.000000j</td>\n",
       "      <td>0.007908+0.000000j</td>\n",
       "      <td>0.010340+0.000000j</td>\n",
       "      <td>0.013530+0.000000j</td>\n",
       "      <td>0.016630+0.000000j</td>\n",
       "      <td>0.019788+0.000000j</td>\n",
       "      <td>0.023121+0.000000j</td>\n",
       "      <td>...</td>\n",
       "      <td>0.068156+0.000000j</td>\n",
       "      <td>0.071242+0.000000j</td>\n",
       "      <td>0.074125+0.000000j</td>\n",
       "      <td>0.076780+0.000000j</td>\n",
       "      <td>0.079198+0.000000j</td>\n",
       "      <td>0.081378+0.000000j</td>\n",
       "      <td>0.083322+0.000000j</td>\n",
       "      <td>0.085037+0.000000j</td>\n",
       "      <td>0.086453+0.000000j</td>\n",
       "      <td>0.087033+0.000000j</td>\n",
       "    </tr>\n",
       "    <tr>\n",
       "      <th>...</th>\n",
       "      <td>...</td>\n",
       "      <td>...</td>\n",
       "      <td>...</td>\n",
       "      <td>...</td>\n",
       "      <td>...</td>\n",
       "      <td>...</td>\n",
       "      <td>...</td>\n",
       "      <td>...</td>\n",
       "      <td>...</td>\n",
       "      <td>...</td>\n",
       "      <td>...</td>\n",
       "      <td>...</td>\n",
       "      <td>...</td>\n",
       "      <td>...</td>\n",
       "      <td>...</td>\n",
       "      <td>...</td>\n",
       "      <td>...</td>\n",
       "      <td>...</td>\n",
       "      <td>...</td>\n",
       "      <td>...</td>\n",
       "      <td>...</td>\n",
       "    </tr>\n",
       "    <tr>\n",
       "      <th>2499.0</th>\n",
       "      <td>0.107658+0.000000j</td>\n",
       "      <td>0.107658+0.000000j</td>\n",
       "      <td>0.107285+0.000000j</td>\n",
       "      <td>0.107968+0.000000j</td>\n",
       "      <td>0.106837+0.000000j</td>\n",
       "      <td>0.108471+0.000000j</td>\n",
       "      <td>0.107161+0.000000j</td>\n",
       "      <td>0.107396+0.000000j</td>\n",
       "      <td>0.107865+0.000000j</td>\n",
       "      <td>0.106904+0.000000j</td>\n",
       "      <td>...</td>\n",
       "      <td>0.107394+0.000000j</td>\n",
       "      <td>0.107375+0.000000j</td>\n",
       "      <td>0.107970+0.000000j</td>\n",
       "      <td>0.106901+0.000000j</td>\n",
       "      <td>0.108220+0.000000j</td>\n",
       "      <td>0.106869+0.000000j</td>\n",
       "      <td>0.108033+0.000000j</td>\n",
       "      <td>0.107226+0.000000j</td>\n",
       "      <td>0.107622+0.000000j</td>\n",
       "      <td>0.107622+0.000000j</td>\n",
       "    </tr>\n",
       "    <tr>\n",
       "      <th>2499.2</th>\n",
       "      <td>0.107634+0.000000j</td>\n",
       "      <td>0.107634+0.000000j</td>\n",
       "      <td>0.107345+0.000000j</td>\n",
       "      <td>0.107872+0.000000j</td>\n",
       "      <td>0.106940+0.000000j</td>\n",
       "      <td>0.108584+0.000000j</td>\n",
       "      <td>0.106631+0.000000j</td>\n",
       "      <td>0.108178+0.000000j</td>\n",
       "      <td>0.107078+0.000000j</td>\n",
       "      <td>0.107612+0.000000j</td>\n",
       "      <td>...</td>\n",
       "      <td>0.107123+0.000000j</td>\n",
       "      <td>0.107736+0.000000j</td>\n",
       "      <td>0.107547+0.000000j</td>\n",
       "      <td>0.107331+0.000000j</td>\n",
       "      <td>0.107815+0.000000j</td>\n",
       "      <td>0.107182+0.000000j</td>\n",
       "      <td>0.107804+0.000000j</td>\n",
       "      <td>0.107344+0.000000j</td>\n",
       "      <td>0.107572+0.000000j</td>\n",
       "      <td>0.107572+0.000000j</td>\n",
       "    </tr>\n",
       "    <tr>\n",
       "      <th>2499.4</th>\n",
       "      <td>0.107600+0.000000j</td>\n",
       "      <td>0.107600+0.000000j</td>\n",
       "      <td>0.107437+0.000000j</td>\n",
       "      <td>0.107726+0.000000j</td>\n",
       "      <td>0.107139+0.000000j</td>\n",
       "      <td>0.108532+0.000000j</td>\n",
       "      <td>0.106250+0.000000j</td>\n",
       "      <td>0.108854+0.000000j</td>\n",
       "      <td>0.106355+0.000000j</td>\n",
       "      <td>0.108308+0.000000j</td>\n",
       "      <td>...</td>\n",
       "      <td>0.106919+0.000000j</td>\n",
       "      <td>0.108066+0.000000j</td>\n",
       "      <td>0.107123+0.000000j</td>\n",
       "      <td>0.107790+0.000000j</td>\n",
       "      <td>0.107366+0.000000j</td>\n",
       "      <td>0.107544+0.000000j</td>\n",
       "      <td>0.107532+0.000000j</td>\n",
       "      <td>0.107490+0.000000j</td>\n",
       "      <td>0.107513+0.000000j</td>\n",
       "      <td>0.107513+0.000000j</td>\n",
       "    </tr>\n",
       "    <tr>\n",
       "      <th>2499.6</th>\n",
       "      <td>0.107559+0.000000j</td>\n",
       "      <td>0.107559+0.000000j</td>\n",
       "      <td>0.107545+0.000000j</td>\n",
       "      <td>0.107550+0.000000j</td>\n",
       "      <td>0.107408+0.000000j</td>\n",
       "      <td>0.108322+0.000000j</td>\n",
       "      <td>0.106071+0.000000j</td>\n",
       "      <td>0.109327+0.000000j</td>\n",
       "      <td>0.105809+0.000000j</td>\n",
       "      <td>0.108886+0.000000j</td>\n",
       "      <td>...</td>\n",
       "      <td>0.106815+0.000000j</td>\n",
       "      <td>0.108314+0.000000j</td>\n",
       "      <td>0.106762+0.000000j</td>\n",
       "      <td>0.108206+0.000000j</td>\n",
       "      <td>0.106939+0.000000j</td>\n",
       "      <td>0.107900+0.000000j</td>\n",
       "      <td>0.107258+0.000000j</td>\n",
       "      <td>0.107638+0.000000j</td>\n",
       "      <td>0.107454+0.000000j</td>\n",
       "      <td>0.107454+0.000000j</td>\n",
       "    </tr>\n",
       "    <tr>\n",
       "      <th>2499.8</th>\n",
       "      <td>0.107518+0.000000j</td>\n",
       "      <td>0.107518+0.000000j</td>\n",
       "      <td>0.107654+0.000000j</td>\n",
       "      <td>0.107370+0.000000j</td>\n",
       "      <td>0.107704+0.000000j</td>\n",
       "      <td>0.107988+0.000000j</td>\n",
       "      <td>0.106118+0.000000j</td>\n",
       "      <td>0.109529+0.000000j</td>\n",
       "      <td>0.105523+0.000000j</td>\n",
       "      <td>0.109257+0.000000j</td>\n",
       "      <td>...</td>\n",
       "      <td>0.106827+0.000000j</td>\n",
       "      <td>0.108442+0.000000j</td>\n",
       "      <td>0.106519+0.000000j</td>\n",
       "      <td>0.108515+0.000000j</td>\n",
       "      <td>0.106600+0.000000j</td>\n",
       "      <td>0.108193+0.000000j</td>\n",
       "      <td>0.107025+0.000000j</td>\n",
       "      <td>0.107764+0.000000j</td>\n",
       "      <td>0.107401+0.000000j</td>\n",
       "      <td>0.107401+0.000000j</td>\n",
       "    </tr>\n",
       "  </tbody>\n",
       "</table>\n",
       "<p>12500 rows × 31 columns</p>\n",
       "</div>"
      ],
      "text/plain": [
       "                       0.5                 0.6                 0.7  \\\n",
       "0.0     0.001298+0.000000j  0.002792+0.000000j  0.004506+0.000000j   \n",
       "0.2     0.001575+0.000000j  0.002798+0.000000j  0.004507+0.000000j   \n",
       "0.4     0.001821+0.000000j  0.002822+0.000000j  0.004510+0.000000j   \n",
       "0.6     0.002053+0.000000j  0.002873+0.000000j  0.004513+0.000000j   \n",
       "0.8     0.002283+0.000000j  0.002955+0.000000j  0.004516+0.000000j   \n",
       "...                    ...                 ...                 ...   \n",
       "2499.0  0.107658+0.000000j  0.107658+0.000000j  0.107285+0.000000j   \n",
       "2499.2  0.107634+0.000000j  0.107634+0.000000j  0.107345+0.000000j   \n",
       "2499.4  0.107600+0.000000j  0.107600+0.000000j  0.107437+0.000000j   \n",
       "2499.6  0.107559+0.000000j  0.107559+0.000000j  0.107545+0.000000j   \n",
       "2499.8  0.107518+0.000000j  0.107518+0.000000j  0.107654+0.000000j   \n",
       "\n",
       "                       0.8                 0.9                 1.0  \\\n",
       "0.0     0.006448+0.000000j  0.008627+0.000000j  0.011046+0.000000j   \n",
       "0.2     0.006433+0.000000j  0.008578+0.000000j  0.011001+0.000000j   \n",
       "0.4     0.006389+0.000000j  0.008437+0.000000j  0.010866+0.000000j   \n",
       "0.6     0.006314+0.000000j  0.008210+0.000000j  0.010644+0.000000j   \n",
       "0.8     0.006209+0.000000j  0.007908+0.000000j  0.010340+0.000000j   \n",
       "...                    ...                 ...                 ...   \n",
       "2499.0  0.107968+0.000000j  0.106837+0.000000j  0.108471+0.000000j   \n",
       "2499.2  0.107872+0.000000j  0.106940+0.000000j  0.108584+0.000000j   \n",
       "2499.4  0.107726+0.000000j  0.107139+0.000000j  0.108532+0.000000j   \n",
       "2499.6  0.107550+0.000000j  0.107408+0.000000j  0.108322+0.000000j   \n",
       "2499.8  0.107370+0.000000j  0.107704+0.000000j  0.107988+0.000000j   \n",
       "\n",
       "                       1.1                 1.2                 1.3  \\\n",
       "0.0     0.013707+0.000000j  0.016604+0.000000j  0.019727+0.000000j   \n",
       "0.2     0.013697+0.000000j  0.016606+0.000000j  0.019730+0.000000j   \n",
       "0.4     0.013667+0.000000j  0.016612+0.000000j  0.019742+0.000000j   \n",
       "0.6     0.013613+0.000000j  0.016621+0.000000j  0.019761+0.000000j   \n",
       "0.8     0.013530+0.000000j  0.016630+0.000000j  0.019788+0.000000j   \n",
       "...                    ...                 ...                 ...   \n",
       "2499.0  0.107161+0.000000j  0.107396+0.000000j  0.107865+0.000000j   \n",
       "2499.2  0.106631+0.000000j  0.108178+0.000000j  0.107078+0.000000j   \n",
       "2499.4  0.106250+0.000000j  0.108854+0.000000j  0.106355+0.000000j   \n",
       "2499.6  0.106071+0.000000j  0.109327+0.000000j  0.105809+0.000000j   \n",
       "2499.8  0.106118+0.000000j  0.109529+0.000000j  0.105523+0.000000j   \n",
       "\n",
       "                       1.4  ...                 2.6                 2.7  \\\n",
       "0.0     0.023059+0.000000j  ...  0.068175+0.000000j  0.071297+0.000000j   \n",
       "0.2     0.023063+0.000000j  ...  0.068173+0.000000j  0.071294+0.000000j   \n",
       "0.4     0.023074+0.000000j  ...  0.068170+0.000000j  0.071283+0.000000j   \n",
       "0.6     0.023094+0.000000j  ...  0.068163+0.000000j  0.071266+0.000000j   \n",
       "0.8     0.023121+0.000000j  ...  0.068156+0.000000j  0.071242+0.000000j   \n",
       "...                    ...  ...                 ...                 ...   \n",
       "2499.0  0.106904+0.000000j  ...  0.107394+0.000000j  0.107375+0.000000j   \n",
       "2499.2  0.107612+0.000000j  ...  0.107123+0.000000j  0.107736+0.000000j   \n",
       "2499.4  0.108308+0.000000j  ...  0.106919+0.000000j  0.108066+0.000000j   \n",
       "2499.6  0.108886+0.000000j  ...  0.106815+0.000000j  0.108314+0.000000j   \n",
       "2499.8  0.109257+0.000000j  ...  0.106827+0.000000j  0.108442+0.000000j   \n",
       "\n",
       "                       2.8                 2.9                 3.0  \\\n",
       "0.0     0.074194+0.000000j  0.076855+0.000000j  0.079275+0.000000j   \n",
       "0.2     0.074190+0.000000j  0.076850+0.000000j  0.079270+0.000000j   \n",
       "0.4     0.074177+0.000000j  0.076836+0.000000j  0.079256+0.000000j   \n",
       "0.6     0.074155+0.000000j  0.076813+0.000000j  0.079232+0.000000j   \n",
       "0.8     0.074125+0.000000j  0.076780+0.000000j  0.079198+0.000000j   \n",
       "...                    ...                 ...                 ...   \n",
       "2499.0  0.107970+0.000000j  0.106901+0.000000j  0.108220+0.000000j   \n",
       "2499.2  0.107547+0.000000j  0.107331+0.000000j  0.107815+0.000000j   \n",
       "2499.4  0.107123+0.000000j  0.107790+0.000000j  0.107366+0.000000j   \n",
       "2499.6  0.106762+0.000000j  0.108206+0.000000j  0.106939+0.000000j   \n",
       "2499.8  0.106519+0.000000j  0.108515+0.000000j  0.106600+0.000000j   \n",
       "\n",
       "                       3.1                 3.2                 3.3  \\\n",
       "0.0     0.081453+0.000000j  0.083395+0.000000j  0.085109+0.000000j   \n",
       "0.2     0.081449+0.000000j  0.083391+0.000000j  0.085105+0.000000j   \n",
       "0.4     0.081434+0.000000j  0.083377+0.000000j  0.085091+0.000000j   \n",
       "0.6     0.081411+0.000000j  0.083354+0.000000j  0.085069+0.000000j   \n",
       "0.8     0.081378+0.000000j  0.083322+0.000000j  0.085037+0.000000j   \n",
       "...                    ...                 ...                 ...   \n",
       "2499.0  0.106869+0.000000j  0.108033+0.000000j  0.107226+0.000000j   \n",
       "2499.2  0.107182+0.000000j  0.107804+0.000000j  0.107344+0.000000j   \n",
       "2499.4  0.107544+0.000000j  0.107532+0.000000j  0.107490+0.000000j   \n",
       "2499.6  0.107900+0.000000j  0.107258+0.000000j  0.107638+0.000000j   \n",
       "2499.8  0.108193+0.000000j  0.107025+0.000000j  0.107764+0.000000j   \n",
       "\n",
       "                       3.4                 3.5  \n",
       "0.0     0.086606+0.000000j  0.087899+0.000000j  \n",
       "0.2     0.086600+0.000000j  0.087659+0.000000j  \n",
       "0.4     0.086577+0.000000j  0.087444+0.000000j  \n",
       "0.6     0.086530+0.000000j  0.087239+0.000000j  \n",
       "0.8     0.086453+0.000000j  0.087033+0.000000j  \n",
       "...                    ...                 ...  \n",
       "2499.0  0.107622+0.000000j  0.107622+0.000000j  \n",
       "2499.2  0.107572+0.000000j  0.107572+0.000000j  \n",
       "2499.4  0.107513+0.000000j  0.107513+0.000000j  \n",
       "2499.6  0.107454+0.000000j  0.107454+0.000000j  \n",
       "2499.8  0.107401+0.000000j  0.107401+0.000000j  \n",
       "\n",
       "[12500 rows x 31 columns]"
      ]
     },
     "execution_count": 3,
     "metadata": {},
     "output_type": "execute_result"
    }
   ],
   "source": [
    "temp"
   ]
  },
  {
   "cell_type": "markdown",
   "id": "162f8ae1",
   "metadata": {},
   "source": [
    "## Inserting a row\n",
    "\n",
    "[Link](https://stackoverflow.com/questions/24284342/insert-a-row-to-pandas-dataframe)"
   ]
  },
  {
   "cell_type": "code",
   "execution_count": null,
   "id": "ce21da5f",
   "metadata": {},
   "outputs": [],
   "source": [
    "s1 = pd.Series([5, 6, 7])\n",
    "s2 = pd.Series([7, 8, 9])\n",
    "cols = np.array((0.5, 1, 1.5))\n",
    "\n",
    "\n",
    "df = pd.DataFrame([list(s1), list(s2)], columns = cols)\n",
    "df"
   ]
  },
  {
   "cell_type": "code",
   "execution_count": null,
   "id": "46992c70",
   "metadata": {},
   "outputs": [],
   "source": [
    "df.loc[-1] = np.array([2, 3, 4]) # adding a row\n",
    "df = df.sort_index()  # sorting by index\n",
    "df"
   ]
  },
  {
   "cell_type": "code",
   "execution_count": null,
   "id": "50a12caa",
   "metadata": {},
   "outputs": [],
   "source": [
    "for t in df.index: # look at each time snapshot\n",
    "    print(t)\n",
    "    print(df.loc[t].index) # gets the x-axis (eg radius domain)\n",
    "    print(df.loc[t].values) # gets the y-axis (eg warp values)"
   ]
  },
  {
   "cell_type": "code",
   "execution_count": null,
   "id": "9e2a774c",
   "metadata": {},
   "outputs": [],
   "source": [
    "df = pd.DataFrame(data=np.array([[2+1j, 3+1j, 4+1j]]), index=np.array([1.1]), columns=[0.5, 1.5, 2])\n",
    "# df.loc[-1] = np.array([2+1j, 3+1j, 4+1j]) # adding a row\n",
    "df"
   ]
  },
  {
   "cell_type": "markdown",
   "id": "0cb39c0d",
   "metadata": {},
   "source": [
    "## Saving a DataFrame\n",
    "[Link](https://stackoverflow.com/questions/17098654/how-to-reversibly-store-and-load-a-pandas-dataframe-to-from-disk)"
   ]
  },
  {
   "cell_type": "code",
   "execution_count": null,
   "id": "e0e49152-bb66-4de0-8860-8d633217f145",
   "metadata": {},
   "outputs": [],
   "source": [
    "file_path = \"Data/test_a=0.01,h=0.2_test.csv\"\n",
    "df_temp.to_csv(file_path, index=False)  \n",
    "\n",
    "df = pd.read_csv(file_path)"
   ]
  },
  {
   "cell_type": "markdown",
   "id": "af076efa-a382-4d1c-8655-ee97d37eedd6",
   "metadata": {},
   "source": [
    "## Plotting 2D plots in different planes\n",
    "[Link](https://matplotlib.org/stable/gallery/mplot3d/bars3d.html)"
   ]
  },
  {
   "cell_type": "code",
   "execution_count": null,
   "id": "eaff9f77-57ca-4a60-955f-63446d0eef2a",
   "metadata": {},
   "outputs": [],
   "source": [
    "ts = np.array([1,2,3,4])\n",
    "\n",
    "df = pd.DataFrame(data=np.array([[2,3,4],[3,4,5],[4,5,6],[7,8,9]]), index=ts, columns = [0.5, 1, 1.5])\n",
    "df"
   ]
  },
  {
   "cell_type": "code",
   "execution_count": null,
   "id": "fba8db5d-39ef-4897-957b-21d340cd02ae",
   "metadata": {},
   "outputs": [],
   "source": [
    "fig = plt.figure()\n",
    "ax = fig.add_subplot(projection='3d')\n",
    "\n",
    "ts = df.index\n",
    "Rs = df.columns\n",
    "\n",
    "for t in ts:\n",
    "    # Generate the random data for the y=k 'layer'.\n",
    "    Ws = df.loc[t].values\n",
    "\n",
    "    # Plot the bar graph given by xs and ys on the plane y=k with 80% opacity.\n",
    "    ax.plot(Rs, Ws, zs=t, zdir='y', color=\"black\", alpha=0.8)\n",
    "\n",
    "ax.set_xlabel('R')\n",
    "ax.set_ylabel('t')\n",
    "ax.set_zlabel(r'$\\mathcal{W}$')\n",
    "\n",
    "# On the y-axis let's only label the discrete values that we have data for.\n",
    "ax.set_yticks(df.index)\n",
    "\n",
    "plt.show()"
   ]
  },
  {
   "cell_type": "markdown",
   "id": "21dc0926-bbc4-4c2b-a91d-47c3e85b12ed",
   "metadata": {},
   "source": [
    "# Ridge plots\n",
    "[Matplotlib tutorial](https://matplotlib.org/matplotblog/posts/create-ridgeplots-in-matplotlib/)"
   ]
  },
  {
   "cell_type": "code",
   "execution_count": null,
   "id": "ed8d52ef-7326-419a-acbf-59b630f6fbe3",
   "metadata": {},
   "outputs": [],
   "source": [
    "W_tseries_copy"
   ]
  },
  {
   "cell_type": "code",
   "execution_count": null,
   "id": "00554f14-98c1-4d67-adb8-e08a63c9893a",
   "metadata": {},
   "outputs": [],
   "source": [
    "np.asarray(W_tseries.loc[0].values, dtype=complex)"
   ]
  },
  {
   "cell_type": "code",
   "execution_count": null,
   "id": "15bd8d70-8af7-4f5f-adb5-8e0307ab2191",
   "metadata": {
    "scrolled": true
   },
   "outputs": [],
   "source": [
    "np.asarray(R_axis.values, dtype=float)"
   ]
  },
  {
   "cell_type": "code",
   "execution_count": null,
   "id": "7ce95e1a-2d73-4c75-b36f-3663018d6913",
   "metadata": {},
   "outputs": [],
   "source": [
    "import sys\n",
    "sys.getsizeof(W_tseries.loc[0])\n",
    "#sys.getsizeof(np.asarray(W_tseries.loc[0].values, dtype=complex))"
   ]
  },
  {
   "cell_type": "code",
   "execution_count": null,
   "id": "62aa1fe5-0183-4de1-9f2f-cd800e0f75c1",
   "metadata": {
    "scrolled": true
   },
   "outputs": [],
   "source": [
    "plt.plot(R_axis.values, W_tseries.loc[0].values.real)"
   ]
  },
  {
   "cell_type": "code",
   "execution_count": null,
   "id": "44dfb15e-65d3-4466-a53a-4bd88a7731ca",
   "metadata": {},
   "outputs": [],
   "source": [
    "R_axis = W_tseries.columns\n",
    "t_axis = np.arange(0, 5, step=1)\n",
    "\n",
    "gs = (grid_spec.GridSpec(len(t_axis), 1))\n",
    "fig = plt.figure(figsize=(10,7))\n",
    "\n",
    "# empty list of axis objects\n",
    "ax_objs = []\n",
    "\n",
    "i = 0\n",
    "for t in t_axis:\n",
    "    # creating new axes object and appending to ax_objs\n",
    "    ax_objs.append(fig.add_subplot(gs[i:i+1, 0:]))\n",
    "\n",
    "    # make plot\n",
    "    W_vals = W_tseries.loc[t].values\n",
    "    ax_objs[-1].plot(R_axis, W_vals, lw=0.5)\n",
    "\n",
    "    # setting uniform x and y lims\n",
    "    ax_objs[-1].set_xlim(0.5, 3.5)\n",
    "    ax_objs[-1].set_ylim(-.1,.1)\n",
    "    \n",
    "    i += 1\n",
    "\n",
    "    \n",
    "plt.tight_layout()\n",
    "plt.show()"
   ]
  },
  {
   "cell_type": "code",
   "execution_count": null,
   "id": "c92805eb-cce5-4b28-a068-5dce8c7c76ff",
   "metadata": {},
   "outputs": [],
   "source": []
  }
 ],
 "metadata": {
  "kernelspec": {
   "display_name": "Python 3 (ipykernel)",
   "language": "python",
   "name": "python3"
  },
  "language_info": {
   "codemirror_mode": {
    "name": "ipython",
    "version": 3
   },
   "file_extension": ".py",
   "mimetype": "text/x-python",
   "name": "python",
   "nbconvert_exporter": "python",
   "pygments_lexer": "ipython3",
   "version": "3.13.5"
  }
 },
 "nbformat": 4,
 "nbformat_minor": 5
}
